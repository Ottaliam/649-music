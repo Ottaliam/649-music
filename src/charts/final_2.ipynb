{
 "cells": [
  {
   "cell_type": "code",
   "metadata": {
    "ExecuteTime": {
     "end_time": "2025-04-26T06:20:50.984206Z",
     "start_time": "2025-04-26T06:20:50.607465Z"
    }
   },
   "source": [
    "import pandas as pd\n",
    "import numpy as np\n",
    "import altair as alt"
   ],
   "outputs": [],
   "execution_count": 1
  },
  {
   "cell_type": "code",
   "metadata": {
    "ExecuteTime": {
     "end_time": "2025-04-26T06:20:51.034998Z",
     "start_time": "2025-04-26T06:20:51.032116Z"
    }
   },
   "source": [
    "# define my own theme\n",
    "@alt.theme.register('theme_1', enable=True)\n",
    "def theme_1():\n",
    "    font = \"IBM Plex Mono\"\n",
    "    primary_color = \"#F63366\"\n",
    "    font_color = \"#262730\"\n",
    "    grey_color = \"#f0f2f6\"\n",
    "    base_size = 16\n",
    "    lg_font = base_size * 1.1\n",
    "    sm_font = base_size * 0.8\n",
    "    xl_font = base_size * 1.75\n",
    "\n",
    "    config = {\n",
    "        \"config\": {\n",
    "            \"arc\": {\"fill\": primary_color},\n",
    "            \"area\": {\"fill\": primary_color},\n",
    "            \"circle\": {\"fill\": primary_color, \"stroke\": font_color, \"strokeWidth\": 0.5},\n",
    "            \"line\": {\"stroke\": primary_color},\n",
    "            \"path\": {\"stroke\": primary_color},\n",
    "            \"point\": {\"stroke\": primary_color},\n",
    "            \"rect\": {\"fill\": primary_color},\n",
    "            \"shape\": {\"stroke\": primary_color},\n",
    "            \"symbol\": {\"fill\": primary_color},\n",
    "            \"title\": {\n",
    "                \"font\": font,\n",
    "                \"color\": font_color,\n",
    "                \"fontSize\": lg_font,\n",
    "                \"anchor\": \"start\",\n",
    "            },\n",
    "            \"subtitle\": {\n",
    "                \"font\": font,\n",
    "                \"color\": font_color,\n",
    "                \"fontSize\": 18,\n",
    "                \"anchor\": \"start\",\n",
    "            },\n",
    "            \"axis\": {\n",
    "                \"titleFont\": font,\n",
    "                \"titleColor\": font_color,\n",
    "                \"titleFontSize\": sm_font,\n",
    "                \"labelFont\": font,\n",
    "                \"labelColor\": font_color,\n",
    "                \"labelFontSize\": sm_font,\n",
    "                \"gridColor\": grey_color,\n",
    "                \"domainColor\": font_color,\n",
    "                \"tickColor\": \"#fff\",\n",
    "            },\n",
    "            \"header\": {\n",
    "                \"labelFont\": font,\n",
    "                \"titleFont\": font,\n",
    "                \"labelFontSize\": base_size,\n",
    "                \"titleFontSize\": base_size,\n",
    "            },\n",
    "            \"legend\": {\n",
    "                \"titleFont\": font,\n",
    "                \"titleColor\": font_color,\n",
    "                \"titleFontSize\": sm_font,\n",
    "                \"labelFont\": font,\n",
    "                \"labelColor\": font_color,\n",
    "                \"labelFontSize\": sm_font,\n",
    "            },\n",
    "            \"range\": {\n",
    "                \"category\": [\"#fcca46\", \"#fe7f2d\", \"#233d4d\", \"#a1c181\", \"#717744\", \"#00798c\"],\n",
    "                \"diverging\": [\n",
    "                    \"#850018\",\n",
    "                    \"#cd1549\",\n",
    "                    \"#f6618d\",\n",
    "                    \"#fbafc4\",\n",
    "                    \"#f5f5f5\",\n",
    "                    \"#93c5fe\",\n",
    "                    \"#5091e6\",\n",
    "                    \"#1d5ebd\",\n",
    "                    \"#002f84\",\n",
    "                ],\n",
    "                \"heatmap\": [\n",
    "                    \"#ffb5d4\",\n",
    "                    \"#ff97b8\",\n",
    "                    \"#ff7499\",\n",
    "                    \"#fc4c78\",\n",
    "                    \"#ec245f\",\n",
    "                    \"#d2004b\",\n",
    "                    \"#b10034\",\n",
    "                    \"#91001f\",\n",
    "                    \"#720008\",\n",
    "                ],\n",
    "                \"ramp\": [\n",
    "                    \"#ffb5d4\",\n",
    "                    \"#ff97b8\",\n",
    "                    \"#ff7499\",\n",
    "                    \"#fc4c78\",\n",
    "                    \"#ec245f\",\n",
    "                    \"#d2004b\",\n",
    "                    \"#b10034\",\n",
    "                    \"#91001f\",\n",
    "                    \"#720008\",\n",
    "                ],\n",
    "                \"ordinal\": [\n",
    "                    \"#ffb5d4\",\n",
    "                    \"#ff97b8\",\n",
    "                    \"#ff7499\",\n",
    "                    \"#fc4c78\",\n",
    "                    \"#ec245f\",\n",
    "                    \"#d2004b\",\n",
    "                    \"#b10034\",\n",
    "                    \"#91001f\",\n",
    "                    \"#720008\",\n",
    "                ],\n",
    "            },\n",
    "        }\n",
    "    }\n",
    "    return config"
   ],
   "outputs": [],
   "execution_count": 2
  },
  {
   "cell_type": "code",
   "metadata": {
    "ExecuteTime": {
     "end_time": "2025-04-26T06:20:51.040752Z",
     "start_time": "2025-04-26T06:20:51.039265Z"
    }
   },
   "source": [
    "# alt.themes.register(\"theme_1\", theme_1)\n",
    "# alt.themes.enable(\"theme_1\")"
   ],
   "outputs": [],
   "execution_count": 3
  },
  {
   "cell_type": "code",
   "metadata": {
    "ExecuteTime": {
     "end_time": "2025-04-26T06:20:51.198807Z",
     "start_time": "2025-04-26T06:20:51.045673Z"
    }
   },
   "source": [
    "data = pd.read_csv('dataset.csv')"
   ],
   "outputs": [],
   "execution_count": 4
  },
  {
   "cell_type": "code",
   "metadata": {
    "ExecuteTime": {
     "end_time": "2025-04-26T06:20:51.216717Z",
     "start_time": "2025-04-26T06:20:51.210173Z"
    }
   },
   "source": [
    "data.head()"
   ],
   "outputs": [
    {
     "data": {
      "text/plain": [
       "   Unnamed: 0                track_id                 artists  \\\n",
       "0           0  5SuOikwiRyPMVoIQDJUgSV             Gen Hoshino   \n",
       "1           1  4qPNDBW1i3p13qLCt0Ki3A            Ben Woodward   \n",
       "2           2  1iJBSr7s7jYXzM8EGcbK5b  Ingrid Michaelson;ZAYN   \n",
       "3           3  6lfxq3CG4xtTiEg7opyCyx            Kina Grannis   \n",
       "4           4  5vjLSffimiIP26QG5WcN2K        Chord Overstreet   \n",
       "\n",
       "                                          album_name  \\\n",
       "0                                             Comedy   \n",
       "1                                   Ghost (Acoustic)   \n",
       "2                                     To Begin Again   \n",
       "3  Crazy Rich Asians (Original Motion Picture Sou...   \n",
       "4                                            Hold On   \n",
       "\n",
       "                   track_name  popularity  duration_ms  explicit  \\\n",
       "0                      Comedy          73       230666     False   \n",
       "1            Ghost - Acoustic          55       149610     False   \n",
       "2              To Begin Again          57       210826     False   \n",
       "3  Can't Help Falling In Love          71       201933     False   \n",
       "4                     Hold On          82       198853     False   \n",
       "\n",
       "   danceability  energy  ...  mode  speechiness  acousticness  \\\n",
       "0         0.676  0.4610  ...     0       0.1430        0.0322   \n",
       "1         0.420  0.1660  ...     1       0.0763        0.9240   \n",
       "2         0.438  0.3590  ...     1       0.0557        0.2100   \n",
       "3         0.266  0.0596  ...     1       0.0363        0.9050   \n",
       "4         0.618  0.4430  ...     1       0.0526        0.4690   \n",
       "\n",
       "   instrumentalness  liveness  valence    tempo  time_signature  track_genre  \\\n",
       "0          0.000001    0.3580    0.715   87.917               4     acoustic   \n",
       "1          0.000006    0.1010    0.267   77.489               4     acoustic   \n",
       "2          0.000000    0.1170    0.120   76.332               4     acoustic   \n",
       "3          0.000071    0.1320    0.143  181.740               3     acoustic   \n",
       "4          0.000000    0.0829    0.167  119.949               4     acoustic   \n",
       "\n",
       "   release_date  \n",
       "0    2022-04-08  \n",
       "1    2021-04-30  \n",
       "2    2021-03-17  \n",
       "3    2018-08-10  \n",
       "4    2017-02-03  \n",
       "\n",
       "[5 rows x 22 columns]"
      ],
      "text/html": [
       "<div>\n",
       "<style scoped>\n",
       "    .dataframe tbody tr th:only-of-type {\n",
       "        vertical-align: middle;\n",
       "    }\n",
       "\n",
       "    .dataframe tbody tr th {\n",
       "        vertical-align: top;\n",
       "    }\n",
       "\n",
       "    .dataframe thead th {\n",
       "        text-align: right;\n",
       "    }\n",
       "</style>\n",
       "<table border=\"1\" class=\"dataframe\">\n",
       "  <thead>\n",
       "    <tr style=\"text-align: right;\">\n",
       "      <th></th>\n",
       "      <th>Unnamed: 0</th>\n",
       "      <th>track_id</th>\n",
       "      <th>artists</th>\n",
       "      <th>album_name</th>\n",
       "      <th>track_name</th>\n",
       "      <th>popularity</th>\n",
       "      <th>duration_ms</th>\n",
       "      <th>explicit</th>\n",
       "      <th>danceability</th>\n",
       "      <th>energy</th>\n",
       "      <th>...</th>\n",
       "      <th>mode</th>\n",
       "      <th>speechiness</th>\n",
       "      <th>acousticness</th>\n",
       "      <th>instrumentalness</th>\n",
       "      <th>liveness</th>\n",
       "      <th>valence</th>\n",
       "      <th>tempo</th>\n",
       "      <th>time_signature</th>\n",
       "      <th>track_genre</th>\n",
       "      <th>release_date</th>\n",
       "    </tr>\n",
       "  </thead>\n",
       "  <tbody>\n",
       "    <tr>\n",
       "      <th>0</th>\n",
       "      <td>0</td>\n",
       "      <td>5SuOikwiRyPMVoIQDJUgSV</td>\n",
       "      <td>Gen Hoshino</td>\n",
       "      <td>Comedy</td>\n",
       "      <td>Comedy</td>\n",
       "      <td>73</td>\n",
       "      <td>230666</td>\n",
       "      <td>False</td>\n",
       "      <td>0.676</td>\n",
       "      <td>0.4610</td>\n",
       "      <td>...</td>\n",
       "      <td>0</td>\n",
       "      <td>0.1430</td>\n",
       "      <td>0.0322</td>\n",
       "      <td>0.000001</td>\n",
       "      <td>0.3580</td>\n",
       "      <td>0.715</td>\n",
       "      <td>87.917</td>\n",
       "      <td>4</td>\n",
       "      <td>acoustic</td>\n",
       "      <td>2022-04-08</td>\n",
       "    </tr>\n",
       "    <tr>\n",
       "      <th>1</th>\n",
       "      <td>1</td>\n",
       "      <td>4qPNDBW1i3p13qLCt0Ki3A</td>\n",
       "      <td>Ben Woodward</td>\n",
       "      <td>Ghost (Acoustic)</td>\n",
       "      <td>Ghost - Acoustic</td>\n",
       "      <td>55</td>\n",
       "      <td>149610</td>\n",
       "      <td>False</td>\n",
       "      <td>0.420</td>\n",
       "      <td>0.1660</td>\n",
       "      <td>...</td>\n",
       "      <td>1</td>\n",
       "      <td>0.0763</td>\n",
       "      <td>0.9240</td>\n",
       "      <td>0.000006</td>\n",
       "      <td>0.1010</td>\n",
       "      <td>0.267</td>\n",
       "      <td>77.489</td>\n",
       "      <td>4</td>\n",
       "      <td>acoustic</td>\n",
       "      <td>2021-04-30</td>\n",
       "    </tr>\n",
       "    <tr>\n",
       "      <th>2</th>\n",
       "      <td>2</td>\n",
       "      <td>1iJBSr7s7jYXzM8EGcbK5b</td>\n",
       "      <td>Ingrid Michaelson;ZAYN</td>\n",
       "      <td>To Begin Again</td>\n",
       "      <td>To Begin Again</td>\n",
       "      <td>57</td>\n",
       "      <td>210826</td>\n",
       "      <td>False</td>\n",
       "      <td>0.438</td>\n",
       "      <td>0.3590</td>\n",
       "      <td>...</td>\n",
       "      <td>1</td>\n",
       "      <td>0.0557</td>\n",
       "      <td>0.2100</td>\n",
       "      <td>0.000000</td>\n",
       "      <td>0.1170</td>\n",
       "      <td>0.120</td>\n",
       "      <td>76.332</td>\n",
       "      <td>4</td>\n",
       "      <td>acoustic</td>\n",
       "      <td>2021-03-17</td>\n",
       "    </tr>\n",
       "    <tr>\n",
       "      <th>3</th>\n",
       "      <td>3</td>\n",
       "      <td>6lfxq3CG4xtTiEg7opyCyx</td>\n",
       "      <td>Kina Grannis</td>\n",
       "      <td>Crazy Rich Asians (Original Motion Picture Sou...</td>\n",
       "      <td>Can't Help Falling In Love</td>\n",
       "      <td>71</td>\n",
       "      <td>201933</td>\n",
       "      <td>False</td>\n",
       "      <td>0.266</td>\n",
       "      <td>0.0596</td>\n",
       "      <td>...</td>\n",
       "      <td>1</td>\n",
       "      <td>0.0363</td>\n",
       "      <td>0.9050</td>\n",
       "      <td>0.000071</td>\n",
       "      <td>0.1320</td>\n",
       "      <td>0.143</td>\n",
       "      <td>181.740</td>\n",
       "      <td>3</td>\n",
       "      <td>acoustic</td>\n",
       "      <td>2018-08-10</td>\n",
       "    </tr>\n",
       "    <tr>\n",
       "      <th>4</th>\n",
       "      <td>4</td>\n",
       "      <td>5vjLSffimiIP26QG5WcN2K</td>\n",
       "      <td>Chord Overstreet</td>\n",
       "      <td>Hold On</td>\n",
       "      <td>Hold On</td>\n",
       "      <td>82</td>\n",
       "      <td>198853</td>\n",
       "      <td>False</td>\n",
       "      <td>0.618</td>\n",
       "      <td>0.4430</td>\n",
       "      <td>...</td>\n",
       "      <td>1</td>\n",
       "      <td>0.0526</td>\n",
       "      <td>0.4690</td>\n",
       "      <td>0.000000</td>\n",
       "      <td>0.0829</td>\n",
       "      <td>0.167</td>\n",
       "      <td>119.949</td>\n",
       "      <td>4</td>\n",
       "      <td>acoustic</td>\n",
       "      <td>2017-02-03</td>\n",
       "    </tr>\n",
       "  </tbody>\n",
       "</table>\n",
       "<p>5 rows × 22 columns</p>\n",
       "</div>"
      ]
     },
     "execution_count": 5,
     "metadata": {},
     "output_type": "execute_result"
    }
   ],
   "execution_count": 5
  },
  {
   "cell_type": "code",
   "metadata": {
    "ExecuteTime": {
     "end_time": "2025-04-26T06:20:51.240323Z",
     "start_time": "2025-04-26T06:20:51.237356Z"
    }
   },
   "source": [
    "data.columns"
   ],
   "outputs": [
    {
     "data": {
      "text/plain": [
       "Index(['Unnamed: 0', 'track_id', 'artists', 'album_name', 'track_name',\n",
       "       'popularity', 'duration_ms', 'explicit', 'danceability', 'energy',\n",
       "       'key', 'loudness', 'mode', 'speechiness', 'acousticness',\n",
       "       'instrumentalness', 'liveness', 'valence', 'tempo', 'time_signature',\n",
       "       'track_genre', 'release_date'],\n",
       "      dtype='object')"
      ]
     },
     "execution_count": 6,
     "metadata": {},
     "output_type": "execute_result"
    }
   ],
   "execution_count": 6
  },
  {
   "cell_type": "code",
   "metadata": {
    "ExecuteTime": {
     "end_time": "2025-04-26T06:20:51.278541Z",
     "start_time": "2025-04-26T06:20:51.262647Z"
    }
   },
   "source": [
    "data.info()"
   ],
   "outputs": [
    {
     "name": "stdout",
     "output_type": "stream",
     "text": [
      "<class 'pandas.core.frame.DataFrame'>\n",
      "RangeIndex: 114000 entries, 0 to 113999\n",
      "Data columns (total 22 columns):\n",
      " #   Column            Non-Null Count   Dtype  \n",
      "---  ------            --------------   -----  \n",
      " 0   Unnamed: 0        114000 non-null  int64  \n",
      " 1   track_id          114000 non-null  object \n",
      " 2   artists           113999 non-null  object \n",
      " 3   album_name        113999 non-null  object \n",
      " 4   track_name        113999 non-null  object \n",
      " 5   popularity        114000 non-null  int64  \n",
      " 6   duration_ms       114000 non-null  int64  \n",
      " 7   explicit          114000 non-null  bool   \n",
      " 8   danceability      114000 non-null  float64\n",
      " 9   energy            114000 non-null  float64\n",
      " 10  key               114000 non-null  int64  \n",
      " 11  loudness          114000 non-null  float64\n",
      " 12  mode              114000 non-null  int64  \n",
      " 13  speechiness       114000 non-null  float64\n",
      " 14  acousticness      114000 non-null  float64\n",
      " 15  instrumentalness  114000 non-null  float64\n",
      " 16  liveness          114000 non-null  float64\n",
      " 17  valence           114000 non-null  float64\n",
      " 18  tempo             114000 non-null  float64\n",
      " 19  time_signature    114000 non-null  int64  \n",
      " 20  track_genre       114000 non-null  object \n",
      " 21  release_date      114000 non-null  object \n",
      "dtypes: bool(1), float64(9), int64(6), object(6)\n",
      "memory usage: 18.4+ MB\n"
     ]
    }
   ],
   "execution_count": 7
  },
  {
   "cell_type": "code",
   "metadata": {
    "ExecuteTime": {
     "end_time": "2025-04-26T06:20:51.305108Z",
     "start_time": "2025-04-26T06:20:51.293530Z"
    }
   },
   "source": [
    "data['release_date'] = pd.to_datetime(data['release_date'], errors='coerce')\n",
    "data['release_date'].min(), data['release_date'].max()"
   ],
   "outputs": [
    {
     "data": {
      "text/plain": [
       "(Timestamp('1899-12-31 00:00:00'), Timestamp('2024-12-27 00:00:00'))"
      ]
     },
     "execution_count": 8,
     "metadata": {},
     "output_type": "execute_result"
    }
   ],
   "execution_count": 8
  },
  {
   "cell_type": "code",
   "metadata": {
    "ExecuteTime": {
     "end_time": "2025-04-26T06:20:51.322726Z",
     "start_time": "2025-04-26T06:20:51.317404Z"
    }
   },
   "source": [
    "data['release_year'] = data['release_date'].dt.year"
   ],
   "outputs": [],
   "execution_count": 9
  },
  {
   "cell_type": "code",
   "metadata": {
    "ExecuteTime": {
     "end_time": "2025-04-26T06:20:51.344066Z",
     "start_time": "2025-04-26T06:20:51.335261Z"
    }
   },
   "source": [
    "# drop if release_date is NaT\n",
    "data = data.dropna(subset=['release_date'])"
   ],
   "outputs": [],
   "execution_count": 10
  },
  {
   "cell_type": "code",
   "metadata": {
    "ExecuteTime": {
     "end_time": "2025-04-26T06:20:51.370933Z",
     "start_time": "2025-04-26T06:20:51.351100Z"
    }
   },
   "source": [
    "# drop data if release_year is before 1985 because the data is too sparse before that\n",
    "data = data[data['release_year'] >= 1985]\n",
    "# drop data after 2023\n",
    "data = data[data['release_year'] <2023]\n",
    "# drop data if release_year is null\n",
    "data = data.dropna(subset=['release_year'])"
   ],
   "outputs": [],
   "execution_count": 11
  },
  {
   "cell_type": "code",
   "metadata": {
    "ExecuteTime": {
     "end_time": "2025-04-26T06:20:51.382493Z",
     "start_time": "2025-04-26T06:20:51.377936Z"
    }
   },
   "source": [
    "# get unique genres\n",
    "unique_genres = data['track_genre'].unique()\n",
    "print(unique_genres)"
   ],
   "outputs": [
    {
     "name": "stdout",
     "output_type": "stream",
     "text": [
      "['acoustic' 'afrobeat' 'alt-rock' 'alternative' 'ambient' 'anime'\n",
      " 'black-metal' 'bluegrass' 'blues' 'brazil' 'breakbeat' 'british'\n",
      " 'cantopop' 'chicago-house' 'children' 'chill' 'classical' 'club' 'comedy'\n",
      " 'country' 'dance' 'dancehall' 'death-metal' 'deep-house' 'detroit-techno'\n",
      " 'disco' 'disney' 'drum-and-bass' 'dub' 'dubstep' 'edm' 'electro'\n",
      " 'electronic' 'emo' 'folk' 'forro' 'french' 'funk' 'garage' 'german'\n",
      " 'gospel' 'goth' 'grindcore' 'groove' 'grunge' 'guitar' 'happy'\n",
      " 'hard-rock' 'hardcore' 'hardstyle' 'heavy-metal' 'hip-hop' 'honky-tonk'\n",
      " 'house' 'idm' 'indian' 'indie-pop' 'indie' 'industrial' 'iranian'\n",
      " 'j-dance' 'j-idol' 'j-pop' 'j-rock' 'jazz' 'k-pop' 'kids' 'latin'\n",
      " 'latino' 'malay' 'mandopop' 'metal' 'metalcore' 'minimal-techno' 'mpb'\n",
      " 'new-age' 'opera' 'pagode' 'party' 'piano' 'pop-film' 'pop' 'power-pop'\n",
      " 'progressive-house' 'psych-rock' 'punk-rock' 'punk' 'r-n-b' 'reggae'\n",
      " 'reggaeton' 'rock-n-roll' 'rock' 'rockabilly' 'romance' 'sad' 'salsa'\n",
      " 'samba' 'sertanejo' 'show-tunes' 'singer-songwriter' 'ska' 'sleep'\n",
      " 'songwriter' 'soul' 'spanish' 'study' 'swedish' 'synth-pop' 'tango'\n",
      " 'techno' 'trance' 'trip-hop' 'turkish' 'world-music']\n"
     ]
    }
   ],
   "execution_count": 12
  },
  {
   "cell_type": "code",
   "metadata": {
    "ExecuteTime": {
     "end_time": "2025-04-26T06:20:51.394604Z",
     "start_time": "2025-04-26T06:20:51.391659Z"
    }
   },
   "source": [
    "# we generate a color mapping for all genres\n",
    "mapping_file = pd.read_csv('Genre_Color_and_Display_Mapping.csv')"
   ],
   "outputs": [],
   "execution_count": 13
  },
  {
   "cell_type": "code",
   "metadata": {
    "ExecuteTime": {
     "end_time": "2025-04-26T06:20:51.408632Z",
     "start_time": "2025-04-26T06:20:51.401412Z"
    }
   },
   "source": [
    "genre_year = (\n",
    "    data.groupby(['release_year', 'track_genre'])['popularity']\n",
    "    .mean()  # or .count() if you prefer song counts\n",
    "    .reset_index()\n",
    "    .rename(columns={'popularity': 'avg_popularity'})\n",
    ")\n",
    "# Make sure release_year is numeric\n",
    "genre_year['release_year'] = pd.to_numeric(genre_year['release_year'], errors='coerce')"
   ],
   "outputs": [],
   "execution_count": 14
  },
  {
   "cell_type": "code",
   "metadata": {
    "ExecuteTime": {
     "end_time": "2025-04-26T06:20:51.420570Z",
     "start_time": "2025-04-26T06:20:51.416717Z"
    }
   },
   "source": [
    "# Merge with genre_year on 'track_genre' and 'genre'\n",
    "genre_year = genre_year.merge(mapping_file, left_on='track_genre', right_on='genre', how='left')"
   ],
   "outputs": [],
   "execution_count": 15
  },
  {
   "cell_type": "code",
   "metadata": {
    "ExecuteTime": {
     "end_time": "2025-04-26T06:20:51.473857Z",
     "start_time": "2025-04-26T06:20:51.428914Z"
    }
   },
   "source": [
    "# show top songs for each genre\n",
    "top_songs = (\n",
    "    data.sort_values(['release_year', 'track_genre', 'popularity'], ascending=[True, True, False])\n",
    "    .groupby(['release_year', 'track_genre'])\n",
    "    .head(3)  # Top 3 songs per group\n",
    "    .groupby(['release_year', 'track_genre'])['track_name']\n",
    "    .apply(lambda x: ', '.join(x))\n",
    "    .reset_index()\n",
    "    .rename(columns={'track_name': 'top_tracks'})\n",
    ")\n",
    "genre_year = genre_year.merge(top_songs, on=['release_year', 'track_genre'], how='left')"
   ],
   "outputs": [],
   "execution_count": 16
  },
  {
   "cell_type": "code",
   "metadata": {
    "ExecuteTime": {
     "end_time": "2025-04-26T06:20:51.487112Z",
     "start_time": "2025-04-26T06:20:51.482813Z"
    }
   },
   "source": [
    "# # color mapping\n",
    "fixed_color_scale = alt.Scale(\n",
    "    domain=mapping_file['genre'].tolist(),\n",
    "    range=mapping_file['color'].tolist()\n",
    ")\n",
    "#\n",
    "# color_encoding = alt.Color('track_genre:N', scale=fixed_color_scale, legend=None)\n",
    "#\n",
    "# # Define the slider\n",
    "# year_param = alt.param(\n",
    "#     name='year_selector',\n",
    "#     bind=alt.binding_range(\n",
    "#         min=int(genre_year['release_year'].min()),\n",
    "#         max=int(genre_year['release_year'].max()),\n",
    "#         step=1,\n",
    "#         name='Year:'\n",
    "#     ),\n",
    "#     value=int(genre_year['release_year'].min())\n",
    "# )\n",
    "#\n",
    "# # Create the bar chart\n",
    "# bar_chart = alt.Chart(genre_year).transform_filter(\n",
    "#     alt.datum.release_year == year_param\n",
    "# ).transform_window(\n",
    "#     rank='rank(avg_popularity)',\n",
    "#     sort=[alt.SortField('avg_popularity', order='descending')],\n",
    "#     groupby=['release_year']\n",
    "# ).transform_filter(\n",
    "#     'datum.rank <= 10'\n",
    "# ).mark_bar().encode(\n",
    "#     y=alt.Y('track_genre:N', sort='-x', title=None, axis=alt.Axis(labelLimit=150)),\n",
    "#     x=alt.X('avg_popularity:Q', title='Popularity'),\n",
    "#     color=color_encoding,\n",
    "#     tooltip=[\n",
    "#         alt.Tooltip('track_genre:N', title='Genre'),\n",
    "#         alt.Tooltip('avg_popularity:Q', title='Popularity', format='.2f'),\n",
    "#         alt.Tooltip('top_tracks:N', title='Top Songs'),\n",
    "#     ],\n",
    "# ).add_params(\n",
    "#     year_param\n",
    "# ).properties(\n",
    "#     title=alt.TitleParams(\n",
    "#         text=['Top 10 Genres by Popularity per Year'],\n",
    "#         subtitle=['Popularity is the average popularity of songs in each genre (drag the slider to change the year)'],\n",
    "#         anchor='start'\n",
    "#     ),\n",
    "#     width=600,\n",
    "#     height=400\n",
    "# )\n",
    "# bar_chart.configure_view(\n",
    "#     strokeWidth=0,\n",
    "# ).configure_axis(\n",
    "#     grid=False\n",
    "# ).save(\"../../public/charts/top10_genre.json\")"
   ],
   "outputs": [],
   "execution_count": 17
  },
  {
   "cell_type": "code",
   "metadata": {
    "ExecuteTime": {
     "end_time": "2025-04-26T06:20:51.500451Z",
     "start_time": "2025-04-26T06:20:51.494701Z"
    }
   },
   "source": [
    "data['popularity'].describe()"
   ],
   "outputs": [
    {
     "data": {
      "text/plain": [
       "count    104455.000000\n",
       "mean         32.872270\n",
       "std          22.343535\n",
       "min           0.000000\n",
       "25%          16.000000\n",
       "50%          34.000000\n",
       "75%          50.000000\n",
       "max         100.000000\n",
       "Name: popularity, dtype: float64"
      ]
     },
     "execution_count": 18,
     "metadata": {},
     "output_type": "execute_result"
    }
   ],
   "execution_count": 18
  },
  {
   "cell_type": "code",
   "metadata": {
    "ExecuteTime": {
     "end_time": "2025-04-26T06:20:51.588066Z",
     "start_time": "2025-04-26T06:20:51.524594Z"
    }
   },
   "source": [
    "feature_cols = [\n",
    "    'danceability', 'energy', 'valence', 'acousticness',\n",
    "    'instrumentalness', 'liveness', 'speechiness'\n",
    "]\n",
    "\n",
    "long_df = data[['release_year'] + feature_cols].melt(\n",
    "    id_vars='release_year',\n",
    "    value_vars=feature_cols,\n",
    "    var_name='feature',\n",
    "    value_name='value'\n",
    ")\n",
    "\n",
    "trend_df = long_df.groupby(['release_year', 'feature'])['value'].mean().reset_index()\n",
    "\n",
    "facet_chart = alt.Chart(trend_df).mark_line(point=True).encode(\n",
    "    x=alt.X('release_year:O', title='Year', axis=alt.Axis(values=list(range(1960, 2025, 10)))),\n",
    "    y=alt.Y('value:Q', title='Average Feature Level'),\n",
    "    color=alt.Color('feature:N', legend=None),\n",
    "    tooltip=['release_year', 'value']\n",
    ").properties(\n",
    "    width=160,\n",
    "    height=120\n",
    ").facet(\n",
    "    facet=alt.Facet('feature:N', title=None), columns=4\n",
    ")\n",
    "\n",
    "facet_chart"
   ],
   "outputs": [
    {
     "data": {
      "text/html": [
       "\n",
       "<style>\n",
       "  #altair-viz-ca21a5358a934b4bb530ada25d4cd6c4.vega-embed {\n",
       "    width: 100%;\n",
       "    display: flex;\n",
       "  }\n",
       "\n",
       "  #altair-viz-ca21a5358a934b4bb530ada25d4cd6c4.vega-embed details,\n",
       "  #altair-viz-ca21a5358a934b4bb530ada25d4cd6c4.vega-embed details summary {\n",
       "    position: relative;\n",
       "  }\n",
       "</style>\n",
       "<div id=\"altair-viz-ca21a5358a934b4bb530ada25d4cd6c4\"></div>\n",
       "<script type=\"text/javascript\">\n",
       "  var VEGA_DEBUG = (typeof VEGA_DEBUG == \"undefined\") ? {} : VEGA_DEBUG;\n",
       "  (function(spec, embedOpt){\n",
       "    let outputDiv = document.currentScript.previousElementSibling;\n",
       "    if (outputDiv.id !== \"altair-viz-ca21a5358a934b4bb530ada25d4cd6c4\") {\n",
       "      outputDiv = document.getElementById(\"altair-viz-ca21a5358a934b4bb530ada25d4cd6c4\");\n",
       "    }\n",
       "\n",
       "    const paths = {\n",
       "      \"vega\": \"https://cdn.jsdelivr.net/npm/vega@5?noext\",\n",
       "      \"vega-lib\": \"https://cdn.jsdelivr.net/npm/vega-lib?noext\",\n",
       "      \"vega-lite\": \"https://cdn.jsdelivr.net/npm/vega-lite@5.20.1?noext\",\n",
       "      \"vega-embed\": \"https://cdn.jsdelivr.net/npm/vega-embed@6?noext\",\n",
       "    };\n",
       "\n",
       "    function maybeLoadScript(lib, version) {\n",
       "      var key = `${lib.replace(\"-\", \"\")}_version`;\n",
       "      return (VEGA_DEBUG[key] == version) ?\n",
       "        Promise.resolve(paths[lib]) :\n",
       "        new Promise(function(resolve, reject) {\n",
       "          var s = document.createElement('script');\n",
       "          document.getElementsByTagName(\"head\")[0].appendChild(s);\n",
       "          s.async = true;\n",
       "          s.onload = () => {\n",
       "            VEGA_DEBUG[key] = version;\n",
       "            return resolve(paths[lib]);\n",
       "          };\n",
       "          s.onerror = () => reject(`Error loading script: ${paths[lib]}`);\n",
       "          s.src = paths[lib];\n",
       "        });\n",
       "    }\n",
       "\n",
       "    function showError(err) {\n",
       "      outputDiv.innerHTML = `<div class=\"error\" style=\"color:red;\">${err}</div>`;\n",
       "      throw err;\n",
       "    }\n",
       "\n",
       "    function displayChart(vegaEmbed) {\n",
       "      vegaEmbed(outputDiv, spec, embedOpt)\n",
       "        .catch(err => showError(`Javascript Error: ${err.message}<br>This usually means there's a typo in your chart specification. See the javascript console for the full traceback.`));\n",
       "    }\n",
       "\n",
       "    if(typeof define === \"function\" && define.amd) {\n",
       "      requirejs.config({paths});\n",
       "      let deps = [\"vega-embed\"];\n",
       "      require(deps, displayChart, err => showError(`Error loading script: ${err.message}`));\n",
       "    } else {\n",
       "      maybeLoadScript(\"vega\", \"5\")\n",
       "        .then(() => maybeLoadScript(\"vega-lite\", \"5.20.1\"))\n",
       "        .then(() => maybeLoadScript(\"vega-embed\", \"6\"))\n",
       "        .catch(showError)\n",
       "        .then(() => displayChart(vegaEmbed));\n",
       "    }\n",
       "  })({\"config\": {\"arc\": {\"fill\": \"#F63366\"}, \"area\": {\"fill\": \"#F63366\"}, \"circle\": {\"fill\": \"#F63366\", \"stroke\": \"#262730\", \"strokeWidth\": 0.5}, \"line\": {\"stroke\": \"#F63366\"}, \"path\": {\"stroke\": \"#F63366\"}, \"point\": {\"stroke\": \"#F63366\"}, \"rect\": {\"fill\": \"#F63366\"}, \"shape\": {\"stroke\": \"#F63366\"}, \"symbol\": {\"fill\": \"#F63366\"}, \"title\": {\"font\": \"IBM Plex Mono\", \"color\": \"#262730\", \"fontSize\": 17.6, \"anchor\": \"start\"}, \"subtitle\": {\"font\": \"IBM Plex Mono\", \"color\": \"#262730\", \"fontSize\": 18, \"anchor\": \"start\"}, \"axis\": {\"titleFont\": \"IBM Plex Mono\", \"titleColor\": \"#262730\", \"titleFontSize\": 12.8, \"labelFont\": \"IBM Plex Mono\", \"labelColor\": \"#262730\", \"labelFontSize\": 12.8, \"gridColor\": \"#f0f2f6\", \"domainColor\": \"#262730\", \"tickColor\": \"#fff\"}, \"header\": {\"labelFont\": \"IBM Plex Mono\", \"titleFont\": \"IBM Plex Mono\", \"labelFontSize\": 16, \"titleFontSize\": 16}, \"legend\": {\"titleFont\": \"IBM Plex Mono\", \"titleColor\": \"#262730\", \"titleFontSize\": 12.8, \"labelFont\": \"IBM Plex Mono\", \"labelColor\": \"#262730\", \"labelFontSize\": 12.8}, \"range\": {\"category\": [\"#fcca46\", \"#fe7f2d\", \"#233d4d\", \"#a1c181\", \"#717744\", \"#00798c\"], \"diverging\": [\"#850018\", \"#cd1549\", \"#f6618d\", \"#fbafc4\", \"#f5f5f5\", \"#93c5fe\", \"#5091e6\", \"#1d5ebd\", \"#002f84\"], \"heatmap\": [\"#ffb5d4\", \"#ff97b8\", \"#ff7499\", \"#fc4c78\", \"#ec245f\", \"#d2004b\", \"#b10034\", \"#91001f\", \"#720008\"], \"ramp\": [\"#ffb5d4\", \"#ff97b8\", \"#ff7499\", \"#fc4c78\", \"#ec245f\", \"#d2004b\", \"#b10034\", \"#91001f\", \"#720008\"], \"ordinal\": [\"#ffb5d4\", \"#ff97b8\", \"#ff7499\", \"#fc4c78\", \"#ec245f\", \"#d2004b\", \"#b10034\", \"#91001f\", \"#720008\"]}}, \"data\": {\"name\": \"data-534ec5ce94aa4b08ca6eb58773a89711\"}, \"facet\": {\"field\": \"feature\", \"title\": null, \"type\": \"nominal\"}, \"spec\": {\"mark\": {\"type\": \"line\", \"point\": true}, \"encoding\": {\"color\": {\"field\": \"feature\", \"legend\": null, \"type\": \"nominal\"}, \"tooltip\": [{\"field\": \"release_year\", \"type\": \"quantitative\"}, {\"field\": \"value\", \"type\": \"quantitative\"}], \"x\": {\"axis\": {\"values\": [1960, 1970, 1980, 1990, 2000, 2010, 2020]}, \"field\": \"release_year\", \"title\": \"Year\", \"type\": \"ordinal\"}, \"y\": {\"field\": \"value\", \"title\": \"Average Feature Level\", \"type\": \"quantitative\"}}, \"height\": 120, \"width\": 160}, \"columns\": 4, \"$schema\": \"https://vega.github.io/schema/vega-lite/v5.20.1.json\", \"datasets\": {\"data-534ec5ce94aa4b08ca6eb58773a89711\": [{\"release_year\": 1985.0, \"feature\": \"acousticness\", \"value\": 0.24054389982378854}, {\"release_year\": 1985.0, \"feature\": \"danceability\", \"value\": 0.5624669603524229}, {\"release_year\": 1985.0, \"feature\": \"energy\", \"value\": 0.6668127753303965}, {\"release_year\": 1985.0, \"feature\": \"instrumentalness\", \"value\": 0.07124524008810573}, {\"release_year\": 1985.0, \"feature\": \"liveness\", \"value\": 0.17886370044052863}, {\"release_year\": 1985.0, \"feature\": \"speechiness\", \"value\": 0.057706607929515416}, {\"release_year\": 1985.0, \"feature\": \"valence\", \"value\": 0.5863286343612335}, {\"release_year\": 1986.0, \"feature\": \"acousticness\", \"value\": 0.21655386}, {\"release_year\": 1986.0, \"feature\": \"danceability\", \"value\": 0.5524975845410628}, {\"release_year\": 1986.0, \"feature\": \"energy\", \"value\": 0.6783975845410628}, {\"release_year\": 1986.0, \"feature\": \"instrumentalness\", \"value\": 0.09353349289855073}, {\"release_year\": 1986.0, \"feature\": \"liveness\", \"value\": 0.18929661835748793}, {\"release_year\": 1986.0, \"feature\": \"speechiness\", \"value\": 0.06257101449275362}, {\"release_year\": 1986.0, \"feature\": \"valence\", \"value\": 0.5883652173913043}, {\"release_year\": 1987.0, \"feature\": \"acousticness\", \"value\": 0.251138099279661}, {\"release_year\": 1987.0, \"feature\": \"danceability\", \"value\": 0.5279495762711864}, {\"release_year\": 1987.0, \"feature\": \"energy\", \"value\": 0.6816320762711865}, {\"release_year\": 1987.0, \"feature\": \"instrumentalness\", \"value\": 0.08512392838983052}, {\"release_year\": 1987.0, \"feature\": \"liveness\", \"value\": 0.22815762711864407}, {\"release_year\": 1987.0, \"feature\": \"speechiness\", \"value\": 0.048317796610169494}, {\"release_year\": 1987.0, \"feature\": \"valence\", \"value\": 0.5457478813559322}, {\"release_year\": 1988.0, \"feature\": \"acousticness\", \"value\": 0.3477733067961165}, {\"release_year\": 1988.0, \"feature\": \"danceability\", \"value\": 0.5332412621359224}, {\"release_year\": 1988.0, \"feature\": \"energy\", \"value\": 0.5958199029126213}, {\"release_year\": 1988.0, \"feature\": \"instrumentalness\", \"value\": 0.15407380354368932}, {\"release_year\": 1988.0, \"feature\": \"liveness\", \"value\": 0.17367718446601943}, {\"release_year\": 1988.0, \"feature\": \"speechiness\", \"value\": 0.055819902912621365}, {\"release_year\": 1988.0, \"feature\": \"valence\", \"value\": 0.5263325242718446}, {\"release_year\": 1989.0, \"feature\": \"acousticness\", \"value\": 0.32473942271929823}, {\"release_year\": 1989.0, \"feature\": \"danceability\", \"value\": 0.5386973684210526}, {\"release_year\": 1989.0, \"feature\": \"energy\", \"value\": 0.6179982456140352}, {\"release_year\": 1989.0, \"feature\": \"instrumentalness\", \"value\": 0.0749550200877193}, {\"release_year\": 1989.0, \"feature\": \"liveness\", \"value\": 0.19398947368421052}, {\"release_year\": 1989.0, \"feature\": \"speechiness\", \"value\": 0.05378508771929825}, {\"release_year\": 1989.0, \"feature\": \"valence\", \"value\": 0.5813833333333333}, {\"release_year\": 1990.0, \"feature\": \"acousticness\", \"value\": 0.3185440748275862}, {\"release_year\": 1990.0, \"feature\": \"danceability\", \"value\": 0.5133761755485893}, {\"release_year\": 1990.0, \"feature\": \"energy\", \"value\": 0.6042742946708464}, {\"release_year\": 1990.0, \"feature\": \"instrumentalness\", \"value\": 0.08333765721003135}, {\"release_year\": 1990.0, \"feature\": \"liveness\", \"value\": 0.2392476489028213}, {\"release_year\": 1990.0, \"feature\": \"speechiness\", \"value\": 0.08399655172413793}, {\"release_year\": 1990.0, \"feature\": \"valence\", \"value\": 0.5185200626959248}, {\"release_year\": 1991.0, \"feature\": \"acousticness\", \"value\": 0.3213028304116223}, {\"release_year\": 1991.0, \"feature\": \"danceability\", \"value\": 0.5253506053268765}, {\"release_year\": 1991.0, \"feature\": \"energy\", \"value\": 0.6043531476997579}, {\"release_year\": 1991.0, \"feature\": \"instrumentalness\", \"value\": 0.10382427501210655}, {\"release_year\": 1991.0, \"feature\": \"liveness\", \"value\": 0.20099515738498788}, {\"release_year\": 1991.0, \"feature\": \"speechiness\", \"value\": 0.05588813559322034}, {\"release_year\": 1991.0, \"feature\": \"valence\", \"value\": 0.526223244552058}, {\"release_year\": 1992.0, \"feature\": \"acousticness\", \"value\": 0.313718761311054}, {\"release_year\": 1992.0, \"feature\": \"danceability\", \"value\": 0.534987146529563}, {\"release_year\": 1992.0, \"feature\": \"energy\", \"value\": 0.5724825192802057}, {\"release_year\": 1992.0, \"feature\": \"instrumentalness\", \"value\": 0.131825319125964}, {\"release_year\": 1992.0, \"feature\": \"liveness\", \"value\": 0.1758845758354756}, {\"release_year\": 1992.0, \"feature\": \"speechiness\", \"value\": 0.05575064267352185}, {\"release_year\": 1992.0, \"feature\": \"valence\", \"value\": 0.5470650385604113}, {\"release_year\": 1993.0, \"feature\": \"acousticness\", \"value\": 0.2511068261917098}, {\"release_year\": 1993.0, \"feature\": \"danceability\", \"value\": 0.5391502590673575}, {\"release_year\": 1993.0, \"feature\": \"energy\", \"value\": 0.6342533160621762}, {\"release_year\": 1993.0, \"feature\": \"instrumentalness\", \"value\": 0.14288847352331607}, {\"release_year\": 1993.0, \"feature\": \"liveness\", \"value\": 0.1987316062176166}, {\"release_year\": 1993.0, \"feature\": \"speechiness\", \"value\": 0.06531165803108809}, {\"release_year\": 1993.0, \"feature\": \"valence\", \"value\": 0.5359466321243523}, {\"release_year\": 1994.0, \"feature\": \"acousticness\", \"value\": 0.31183425684615385}, {\"release_year\": 1994.0, \"feature\": \"danceability\", \"value\": 0.5467330769230769}, {\"release_year\": 1994.0, \"feature\": \"energy\", \"value\": 0.6156716923076923}, {\"release_year\": 1994.0, \"feature\": \"instrumentalness\", \"value\": 0.14829014173076924}, {\"release_year\": 1994.0, \"feature\": \"liveness\", \"value\": 0.22908923076923077}, {\"release_year\": 1994.0, \"feature\": \"speechiness\", \"value\": 0.07131038461538462}, {\"release_year\": 1994.0, \"feature\": \"valence\", \"value\": 0.4957682692307693}, {\"release_year\": 1995.0, \"feature\": \"acousticness\", \"value\": 0.3394773088718929}, {\"release_year\": 1995.0, \"feature\": \"danceability\", \"value\": 0.5235239005736138}, {\"release_year\": 1995.0, \"feature\": \"energy\", \"value\": 0.5877290630975143}, {\"release_year\": 1995.0, \"feature\": \"instrumentalness\", \"value\": 0.2087204844741874}, {\"release_year\": 1995.0, \"feature\": \"liveness\", \"value\": 0.22692868068833652}, {\"release_year\": 1995.0, \"feature\": \"speechiness\", \"value\": 0.07503709369024857}, {\"release_year\": 1995.0, \"feature\": \"valence\", \"value\": 0.4880757170172084}, {\"release_year\": 1996.0, \"feature\": \"acousticness\", \"value\": 0.3105764229783694}, {\"release_year\": 1996.0, \"feature\": \"danceability\", \"value\": 0.53293693843594}, {\"release_year\": 1996.0, \"feature\": \"energy\", \"value\": 0.6251990349417638}, {\"release_year\": 1996.0, \"feature\": \"instrumentalness\", \"value\": 0.20982206254575708}, {\"release_year\": 1996.0, \"feature\": \"liveness\", \"value\": 0.21375707154742093}, {\"release_year\": 1996.0, \"feature\": \"speechiness\", \"value\": 0.06930133111480866}, {\"release_year\": 1996.0, \"feature\": \"valence\", \"value\": 0.5025782029950083}, {\"release_year\": 1997.0, \"feature\": \"acousticness\", \"value\": 0.3195256482537313}, {\"release_year\": 1997.0, \"feature\": \"danceability\", \"value\": 0.5375010447761194}, {\"release_year\": 1997.0, \"feature\": \"energy\", \"value\": 0.6266435820895523}, {\"release_year\": 1997.0, \"feature\": \"instrumentalness\", \"value\": 0.23806944392537313}, {\"release_year\": 1997.0, \"feature\": \"liveness\", \"value\": 0.21641164179104477}, {\"release_year\": 1997.0, \"feature\": \"speechiness\", \"value\": 0.07710671641791045}, {\"release_year\": 1997.0, \"feature\": \"valence\", \"value\": 0.5130228358208956}, {\"release_year\": 1998.0, \"feature\": \"acousticness\", \"value\": 0.37532839977673327}, {\"release_year\": 1998.0, \"feature\": \"danceability\", \"value\": 0.5451111633372503}, {\"release_year\": 1998.0, \"feature\": \"energy\", \"value\": 0.5923773207990599}, {\"release_year\": 1998.0, \"feature\": \"instrumentalness\", \"value\": 0.15481351992949471}, {\"release_year\": 1998.0, \"feature\": \"liveness\", \"value\": 0.2280038777908343}, {\"release_year\": 1998.0, \"feature\": \"speechiness\", \"value\": 0.06244042303172738}, {\"release_year\": 1998.0, \"feature\": \"valence\", \"value\": 0.5237662749706228}, {\"release_year\": 1999.0, \"feature\": \"acousticness\", \"value\": 0.32899648923264313}, {\"release_year\": 1999.0, \"feature\": \"danceability\", \"value\": 0.5458461632155908}, {\"release_year\": 1999.0, \"feature\": \"energy\", \"value\": 0.6541647872107187}, {\"release_year\": 1999.0, \"feature\": \"instrumentalness\", \"value\": 0.1880587933495737}, {\"release_year\": 1999.0, \"feature\": \"liveness\", \"value\": 0.25539244823386115}, {\"release_year\": 1999.0, \"feature\": \"speechiness\", \"value\": 0.07827637028014615}, {\"release_year\": 1999.0, \"feature\": \"valence\", \"value\": 0.5237902557856272}, {\"release_year\": 2000.0, \"feature\": \"acousticness\", \"value\": 0.3291554485104053}, {\"release_year\": 2000.0, \"feature\": \"danceability\", \"value\": 0.532584008762322}, {\"release_year\": 2000.0, \"feature\": \"energy\", \"value\": 0.6503122453450165}, {\"release_year\": 2000.0, \"feature\": \"instrumentalness\", \"value\": 0.14585097120481927}, {\"release_year\": 2000.0, \"feature\": \"liveness\", \"value\": 0.24640887185104055}, {\"release_year\": 2000.0, \"feature\": \"speechiness\", \"value\": 0.08004841182913472}, {\"release_year\": 2000.0, \"feature\": \"valence\", \"value\": 0.528994852135816}, {\"release_year\": 2001.0, \"feature\": \"acousticness\", \"value\": 0.3857253490917603}, {\"release_year\": 2001.0, \"feature\": \"danceability\", \"value\": 0.5194100187265918}, {\"release_year\": 2001.0, \"feature\": \"energy\", \"value\": 0.5841842602996254}, {\"release_year\": 2001.0, \"feature\": \"instrumentalness\", \"value\": 0.18090697302434455}, {\"release_year\": 2001.0, \"feature\": \"liveness\", \"value\": 0.2244683520599251}, {\"release_year\": 2001.0, \"feature\": \"speechiness\", \"value\": 0.07913024344569289}, {\"release_year\": 2001.0, \"feature\": \"valence\", \"value\": 0.46852162921348317}, {\"release_year\": 2002.0, \"feature\": \"acousticness\", \"value\": 0.3475494219891304}, {\"release_year\": 2002.0, \"feature\": \"danceability\", \"value\": 0.5458630434782609}, {\"release_year\": 2002.0, \"feature\": \"energy\", \"value\": 0.6483062717391305}, {\"release_year\": 2002.0, \"feature\": \"instrumentalness\", \"value\": 0.13307296970652174}, {\"release_year\": 2002.0, \"feature\": \"liveness\", \"value\": 0.23803434782608696}, {\"release_year\": 2002.0, \"feature\": \"speechiness\", \"value\": 0.07296434782608696}, {\"release_year\": 2002.0, \"feature\": \"valence\", \"value\": 0.5359532608695652}, {\"release_year\": 2003.0, \"feature\": \"acousticness\", \"value\": 0.30206199727722777}, {\"release_year\": 2003.0, \"feature\": \"danceability\", \"value\": 0.5228349834983499}, {\"release_year\": 2003.0, \"feature\": \"energy\", \"value\": 0.6750311881188119}, {\"release_year\": 2003.0, \"feature\": \"instrumentalness\", \"value\": 0.12716503640264026}, {\"release_year\": 2003.0, \"feature\": \"liveness\", \"value\": 0.26700016501650164}, {\"release_year\": 2003.0, \"feature\": \"speechiness\", \"value\": 0.0780763201320132}, {\"release_year\": 2003.0, \"feature\": \"valence\", \"value\": 0.5030743399339934}, {\"release_year\": 2004.0, \"feature\": \"acousticness\", \"value\": 0.33455084423846826}, {\"release_year\": 2004.0, \"feature\": \"danceability\", \"value\": 0.5154221932114883}, {\"release_year\": 2004.0, \"feature\": \"energy\", \"value\": 0.6537878503046127}, {\"release_year\": 2004.0, \"feature\": \"instrumentalness\", \"value\": 0.1569932222889469}, {\"release_year\": 2004.0, \"feature\": \"liveness\", \"value\": 0.23687006092254134}, {\"release_year\": 2004.0, \"feature\": \"speechiness\", \"value\": 0.0789633594429939}, {\"release_year\": 2004.0, \"feature\": \"valence\", \"value\": 0.47445944299390774}, {\"release_year\": 2005.0, \"feature\": \"acousticness\", \"value\": 0.3508226130594901}, {\"release_year\": 2005.0, \"feature\": \"danceability\", \"value\": 0.517335552407932}, {\"release_year\": 2005.0, \"feature\": \"energy\", \"value\": 0.6485126984419264}, {\"release_year\": 2005.0, \"feature\": \"instrumentalness\", \"value\": 0.1526328052549575}, {\"release_year\": 2005.0, \"feature\": \"liveness\", \"value\": 0.2553775495750708}, {\"release_year\": 2005.0, \"feature\": \"speechiness\", \"value\": 0.07605793201133144}, {\"release_year\": 2005.0, \"feature\": \"valence\", \"value\": 0.48311869688385267}, {\"release_year\": 2006.0, \"feature\": \"acousticness\", \"value\": 0.31763931939065676}, {\"release_year\": 2006.0, \"feature\": \"danceability\", \"value\": 0.5258398781313472}, {\"release_year\": 2006.0, \"feature\": \"energy\", \"value\": 0.6750807718348003}, {\"release_year\": 2006.0, \"feature\": \"instrumentalness\", \"value\": 0.1367383474407583}, {\"release_year\": 2006.0, \"feature\": \"liveness\", \"value\": 0.2449824644549763}, {\"release_year\": 2006.0, \"feature\": \"speechiness\", \"value\": 0.08498767772511848}, {\"release_year\": 2006.0, \"feature\": \"valence\", \"value\": 0.4945423155044008}, {\"release_year\": 2007.0, \"feature\": \"acousticness\", \"value\": 0.30631358718075263}, {\"release_year\": 2007.0, \"feature\": \"danceability\", \"value\": 0.5452236273904997}, {\"release_year\": 2007.0, \"feature\": \"energy\", \"value\": 0.6976380481801356}, {\"release_year\": 2007.0, \"feature\": \"instrumentalness\", \"value\": 0.10914677447254782}, {\"release_year\": 2007.0, \"feature\": \"liveness\", \"value\": 0.2489452190006169}, {\"release_year\": 2007.0, \"feature\": \"speechiness\", \"value\": 0.08152677359654534}, {\"release_year\": 2007.0, \"feature\": \"valence\", \"value\": 0.523136088834053}, {\"release_year\": 2008.0, \"feature\": \"acousticness\", \"value\": 0.29267650793923383}, {\"release_year\": 2008.0, \"feature\": \"danceability\", \"value\": 0.5486476882430648}, {\"release_year\": 2008.0, \"feature\": \"energy\", \"value\": 0.6827463011889036}, {\"release_year\": 2008.0, \"feature\": \"instrumentalness\", \"value\": 0.16424888865257595}, {\"release_year\": 2008.0, \"feature\": \"liveness\", \"value\": 0.22544623513870543}, {\"release_year\": 2008.0, \"feature\": \"speechiness\", \"value\": 0.08175924702774108}, {\"release_year\": 2008.0, \"feature\": \"valence\", \"value\": 0.5009083883751652}, {\"release_year\": 2009.0, \"feature\": \"acousticness\", \"value\": 0.2966539539769453}, {\"release_year\": 2009.0, \"feature\": \"danceability\", \"value\": 0.5316536023054755}, {\"release_year\": 2009.0, \"feature\": \"energy\", \"value\": 0.6852443171757925}, {\"release_year\": 2009.0, \"feature\": \"instrumentalness\", \"value\": 0.17093379765417865}, {\"release_year\": 2009.0, \"feature\": \"liveness\", \"value\": 0.23496420749279537}, {\"release_year\": 2009.0, \"feature\": \"speechiness\", \"value\": 0.09337296829971183}, {\"release_year\": 2009.0, \"feature\": \"valence\", \"value\": 0.48216219020172907}, {\"release_year\": 2010.0, \"feature\": \"acousticness\", \"value\": 0.2857616353696708}, {\"release_year\": 2010.0, \"feature\": \"danceability\", \"value\": 0.536207825148408}, {\"release_year\": 2010.0, \"feature\": \"energy\", \"value\": 0.6928746608202915}, {\"release_year\": 2010.0, \"feature\": \"instrumentalness\", \"value\": 0.15608039798704804}, {\"release_year\": 2010.0, \"feature\": \"liveness\", \"value\": 0.25289487317862924}, {\"release_year\": 2010.0, \"feature\": \"speechiness\", \"value\": 0.09049924446842957}, {\"release_year\": 2010.0, \"feature\": \"valence\", \"value\": 0.4756115488397194}, {\"release_year\": 2011.0, \"feature\": \"acousticness\", \"value\": 0.3080908615989036}, {\"release_year\": 2011.0, \"feature\": \"danceability\", \"value\": 0.5447590680676108}, {\"release_year\": 2011.0, \"feature\": \"energy\", \"value\": 0.6759948889904066}, {\"release_year\": 2011.0, \"feature\": \"instrumentalness\", \"value\": 0.1551628380356327}, {\"release_year\": 2011.0, \"feature\": \"liveness\", \"value\": 0.2398187300137049}, {\"release_year\": 2011.0, \"feature\": \"speechiness\", \"value\": 0.10744700776610325}, {\"release_year\": 2011.0, \"feature\": \"valence\", \"value\": 0.48332992690726356}, {\"release_year\": 2012.0, \"feature\": \"acousticness\", \"value\": 0.31298887391583163}, {\"release_year\": 2012.0, \"feature\": \"danceability\", \"value\": 0.5396232865731463}, {\"release_year\": 2012.0, \"feature\": \"energy\", \"value\": 0.6720535592384769}, {\"release_year\": 2012.0, \"feature\": \"instrumentalness\", \"value\": 0.13286621682965932}, {\"release_year\": 2012.0, \"feature\": \"liveness\", \"value\": 0.24918769539078156}, {\"release_year\": 2012.0, \"feature\": \"speechiness\", \"value\": 0.0881064128256513}, {\"release_year\": 2012.0, \"feature\": \"valence\", \"value\": 0.4749558236472946}, {\"release_year\": 2013.0, \"feature\": \"acousticness\", \"value\": 0.3124165203411978}, {\"release_year\": 2013.0, \"feature\": \"danceability\", \"value\": 0.5439323774954627}, {\"release_year\": 2013.0, \"feature\": \"energy\", \"value\": 0.6721917637023593}, {\"release_year\": 2013.0, \"feature\": \"instrumentalness\", \"value\": 0.1900349904137931}, {\"release_year\": 2013.0, \"feature\": \"liveness\", \"value\": 0.2399876225045372}, {\"release_year\": 2013.0, \"feature\": \"speechiness\", \"value\": 0.10185125226860253}, {\"release_year\": 2013.0, \"feature\": \"valence\", \"value\": 0.4477488929219601}, {\"release_year\": 2014.0, \"feature\": \"acousticness\", \"value\": 0.29139505199158033}, {\"release_year\": 2014.0, \"feature\": \"danceability\", \"value\": 0.5385825453367876}, {\"release_year\": 2014.0, \"feature\": \"energy\", \"value\": 0.669516532415803}, {\"release_year\": 2014.0, \"feature\": \"instrumentalness\", \"value\": 0.17914952253562175}, {\"release_year\": 2014.0, \"feature\": \"liveness\", \"value\": 0.23818147668393783}, {\"release_year\": 2014.0, \"feature\": \"speechiness\", \"value\": 0.08449083549222797}, {\"release_year\": 2014.0, \"feature\": \"valence\", \"value\": 0.45603952072538856}, {\"release_year\": 2015.0, \"feature\": \"acousticness\", \"value\": 0.3116177802264908}, {\"release_year\": 2015.0, \"feature\": \"danceability\", \"value\": 0.5381943520642202}, {\"release_year\": 2015.0, \"feature\": \"energy\", \"value\": 0.6482255870126147}, {\"release_year\": 2015.0, \"feature\": \"instrumentalness\", \"value\": 0.16849889360665135}, {\"release_year\": 2015.0, \"feature\": \"liveness\", \"value\": 0.2231760894495413}, {\"release_year\": 2015.0, \"feature\": \"speechiness\", \"value\": 0.09183294151376148}, {\"release_year\": 2015.0, \"feature\": \"valence\", \"value\": 0.4363985607798165}, {\"release_year\": 2016.0, \"feature\": \"acousticness\", \"value\": 0.29320381556461284}, {\"release_year\": 2016.0, \"feature\": \"danceability\", \"value\": 0.5471133541117238}, {\"release_year\": 2016.0, \"feature\": \"energy\", \"value\": 0.6704445351953968}, {\"release_year\": 2016.0, \"feature\": \"instrumentalness\", \"value\": 0.17452514390793575}, {\"release_year\": 2016.0, \"feature\": \"liveness\", \"value\": 0.24631678254615202}, {\"release_year\": 2016.0, \"feature\": \"speechiness\", \"value\": 0.09435008391273075}, {\"release_year\": 2016.0, \"feature\": \"valence\", \"value\": 0.43866821985135457}, {\"release_year\": 2017.0, \"feature\": \"acousticness\", \"value\": 0.28454553043653313}, {\"release_year\": 2017.0, \"feature\": \"danceability\", \"value\": 0.5754759694850604}, {\"release_year\": 2017.0, \"feature\": \"energy\", \"value\": 0.6629824308116126}, {\"release_year\": 2017.0, \"feature\": \"instrumentalness\", \"value\": 0.1790735724920534}, {\"release_year\": 2017.0, \"feature\": \"liveness\", \"value\": 0.21692657342657343}, {\"release_year\": 2017.0, \"feature\": \"speechiness\", \"value\": 0.08656590379317652}, {\"release_year\": 2017.0, \"feature\": \"valence\", \"value\": 0.4467009451154906}, {\"release_year\": 2018.0, \"feature\": \"acousticness\", \"value\": 0.3192295390246479}, {\"release_year\": 2018.0, \"feature\": \"danceability\", \"value\": 0.5687780633802817}, {\"release_year\": 2018.0, \"feature\": \"energy\", \"value\": 0.6334960971654929}, {\"release_year\": 2018.0, \"feature\": \"instrumentalness\", \"value\": 0.1809194674700704}, {\"release_year\": 2018.0, \"feature\": \"liveness\", \"value\": 0.2182975088028169}, {\"release_year\": 2018.0, \"feature\": \"speechiness\", \"value\": 0.08924093309859156}, {\"release_year\": 2018.0, \"feature\": \"valence\", \"value\": 0.41971120334507045}, {\"release_year\": 2019.0, \"feature\": \"acousticness\", \"value\": 0.3045557935150067}, {\"release_year\": 2019.0, \"feature\": \"danceability\", \"value\": 0.5843145288935344}, {\"release_year\": 2019.0, \"feature\": \"energy\", \"value\": 0.6481854182469762}, {\"release_year\": 2019.0, \"feature\": \"instrumentalness\", \"value\": 0.16930159472748993}, {\"release_year\": 2019.0, \"feature\": \"liveness\", \"value\": 0.20615288935344184}, {\"release_year\": 2019.0, \"feature\": \"speechiness\", \"value\": 0.092898745707033}, {\"release_year\": 2019.0, \"feature\": \"valence\", \"value\": 0.43309325653277586}, {\"release_year\": 2020.0, \"feature\": \"acousticness\", \"value\": 0.32638814341707906}, {\"release_year\": 2020.0, \"feature\": \"danceability\", \"value\": 0.5916238421520111}, {\"release_year\": 2020.0, \"feature\": \"energy\", \"value\": 0.6219053329653598}, {\"release_year\": 2020.0, \"feature\": \"instrumentalness\", \"value\": 0.1712868227077782}, {\"release_year\": 2020.0, \"feature\": \"liveness\", \"value\": 0.2025528993782515}, {\"release_year\": 2020.0, \"feature\": \"speechiness\", \"value\": 0.0938613120162416}, {\"release_year\": 2020.0, \"feature\": \"valence\", \"value\": 0.4278537954574293}, {\"release_year\": 2021.0, \"feature\": \"acousticness\", \"value\": 0.34552731094481604}, {\"release_year\": 2021.0, \"feature\": \"danceability\", \"value\": 0.5961921927257525}, {\"release_year\": 2021.0, \"feature\": \"energy\", \"value\": 0.6017834002194816}, {\"release_year\": 2021.0, \"feature\": \"instrumentalness\", \"value\": 0.21173379040342807}, {\"release_year\": 2021.0, \"feature\": \"liveness\", \"value\": 0.1908595004180602}, {\"release_year\": 2021.0, \"feature\": \"speechiness\", \"value\": 0.08667121655518395}, {\"release_year\": 2021.0, \"feature\": \"valence\", \"value\": 0.43321362458193985}, {\"release_year\": 2022.0, \"feature\": \"acousticness\", \"value\": 0.30042381807324897}, {\"release_year\": 2022.0, \"feature\": \"danceability\", \"value\": 0.5922542392490001}, {\"release_year\": 2022.0, \"feature\": \"energy\", \"value\": 0.6403651477208872}, {\"release_year\": 2022.0, \"feature\": \"instrumentalness\", \"value\": 0.1307608965428222}, {\"release_year\": 2022.0, \"feature\": \"liveness\", \"value\": 0.1933443427098139}, {\"release_year\": 2022.0, \"feature\": \"speechiness\", \"value\": 0.08248474531451426}, {\"release_year\": 2022.0, \"feature\": \"valence\", \"value\": 0.4925279648299342}]}}, {\"mode\": \"vega-lite\"});\n",
       "</script>"
      ],
      "text/plain": [
       "alt.FacetChart(...)"
      ]
     },
     "execution_count": 19,
     "metadata": {},
     "output_type": "execute_result"
    }
   ],
   "execution_count": 19
  },
  {
   "cell_type": "code",
   "metadata": {
    "ExecuteTime": {
     "end_time": "2025-04-26T06:20:51.670163Z",
     "start_time": "2025-04-26T06:20:51.652984Z"
    }
   },
   "source": [
    "data['release_year'] = pd.to_datetime(data['release_date'], errors='coerce').dt.year\n",
    "genre_year_counts = data.groupby(['track_genre', 'release_year']).size().reset_index(name='count')\n",
    "genre_year_span = genre_year_counts.groupby('track_genre')['release_year'].nunique().reset_index()\n",
    "genre_year_span.columns = ['track_genre', 'active_years']\n",
    "long_lasting_genres = genre_year_span[genre_year_span['active_years'] >= 10]  # threshold is adjustable\n",
    "\n",
    "print(long_lasting_genres.sort_values(by='active_years', ascending=False))"
   ],
   "outputs": [
    {
     "name": "stdout",
     "output_type": "stream",
     "text": [
      "           track_genre  active_years\n",
      "106            swedish            38\n",
      "76               opera            38\n",
      "41                goth            38\n",
      "47           hard-rock            38\n",
      "48            hardcore            38\n",
      "..                 ...           ...\n",
      "83   progressive-house            16\n",
      "53               house            16\n",
      "15               chill            16\n",
      "101              sleep            15\n",
      "30                 edm            13\n",
      "\n",
      "[112 rows x 2 columns]\n"
     ]
    }
   ],
   "execution_count": 20
  },
  {
   "cell_type": "code",
   "metadata": {
    "ExecuteTime": {
     "end_time": "2025-04-26T06:20:51.701077Z",
     "start_time": "2025-04-26T06:20:51.686106Z"
    }
   },
   "source": [
    "# Step 4: Filter main dataset for long-lasting genres\n",
    "lasting_genres_list = long_lasting_genres['track_genre']\n",
    "filtered_data = data[data['track_genre'].isin(lasting_genres_list)]\n",
    "\n",
    "# Step 5: Compute average feature values for each genre\n",
    "features = ['danceability', 'energy', 'valence', 'acousticness', 'instrumentalness', 'liveness', 'speechiness']\n",
    "genre_feature_means = filtered_data.groupby('track_genre')[features].mean().reset_index()\n",
    "\n",
    "# View summary table\n",
    "print(genre_feature_means.sort_values(by='track_genre'))"
   ],
   "outputs": [
    {
     "name": "stdout",
     "output_type": "stream",
     "text": [
      "     track_genre  danceability    energy   valence  acousticness  \\\n",
      "0       acoustic      0.548152  0.428808  0.415441      0.575408   \n",
      "1       afrobeat      0.668244  0.709412  0.698272      0.264666   \n",
      "2       alt-rock      0.534710  0.754142  0.516095      0.122366   \n",
      "3    alternative      0.558448  0.721111  0.494502      0.144665   \n",
      "4        ambient      0.367931  0.236628  0.166825      0.778337   \n",
      "..           ...           ...       ...       ...           ...   \n",
      "107       techno      0.685338  0.749398  0.309688      0.072150   \n",
      "108       trance      0.581176  0.845960  0.273283      0.035271   \n",
      "109     trip-hop      0.636980  0.623174  0.472196      0.224655   \n",
      "110      turkish      0.620844  0.612482  0.458195      0.311770   \n",
      "111  world-music      0.414071  0.535595  0.250327      0.295782   \n",
      "\n",
      "     instrumentalness  liveness  speechiness  \n",
      "0            0.039708  0.152583     0.043211  \n",
      "1            0.253921  0.187144     0.088612  \n",
      "2            0.055160  0.211847     0.054941  \n",
      "3            0.040116  0.199283     0.069252  \n",
      "4            0.673985  0.128422     0.041405  \n",
      "..                ...       ...          ...  \n",
      "107          0.559446  0.158542     0.065070  \n",
      "108          0.428057  0.236513     0.078853  \n",
      "109          0.386596  0.190435     0.076880  \n",
      "110          0.034962  0.179618     0.106709  \n",
      "111          0.094942  0.245051     0.042028  \n",
      "\n",
      "[112 rows x 8 columns]\n"
     ]
    }
   ],
   "execution_count": 21
  },
  {
   "cell_type": "code",
   "metadata": {
    "ExecuteTime": {
     "end_time": "2025-04-26T06:20:51.733315Z",
     "start_time": "2025-04-26T06:20:51.715836Z"
    }
   },
   "source": [
    "# scatter plot\n",
    "\n",
    "# Step 1: Compute total song count and average popularity per genre\n",
    "genre_summary = data.groupby('track_genre').agg(\n",
    "    total_count=('track_id', 'count'),\n",
    "    avg_popularity=('popularity', 'mean')\n",
    ").reset_index()\n",
    "\n",
    "# Step 2: Merge with the active years data you already calculated\n",
    "genre_summary = genre_summary.merge(genre_year_span, on='track_genre')\n",
    "\n",
    "# Step 3: Create scatter plot\n",
    "scatter = alt.Chart(genre_summary).mark_circle().encode(\n",
    "    x=alt.X('active_years:Q', title='Number of Active Years'),\n",
    "    y=alt.Y('total_count:Q', title='Total Number of Songs', scale=alt.Scale(domain=[500, 1100])),\n",
    "    size=alt.Size('avg_popularity:Q', title='Average Popularity', scale=alt.Scale(range=[20, 600]), legend=alt.Legend(title=\"Avg Popularity\")),\n",
    "    color=alt.Color('track_genre:N', scale=fixed_color_scale, legend=None),\n",
    "    tooltip=[alt.Tooltip('track_genre:N', title='Genre'),\n",
    "                alt.Tooltip('active_years:Q', title='Active Years'),\n",
    "                alt.Tooltip('total_count:Q', title='Total Songs'),\n",
    "                alt.Tooltip('avg_popularity:Q', title='Avg Popularity', format='.2f')]\n",
    ").properties(\n",
    "    title='Genre Longevity vs Output vs Popularity',\n",
    "    width=600,\n",
    "    height=400\n",
    ")\n",
    "\n",
    "scatter.interactive().save(\"../../public/charts/enduring_genre.json\")"
   ],
   "outputs": [],
   "execution_count": 22
  },
  {
   "cell_type": "code",
   "metadata": {
    "ExecuteTime": {
     "end_time": "2025-04-26T06:20:52.195182Z",
     "start_time": "2025-04-26T06:20:51.751808Z"
    }
   },
   "source": [
    "#Normalize popularity and count\n",
    "from sklearn.preprocessing import MinMaxScaler\n",
    "\n",
    "scaler = MinMaxScaler()\n",
    "genre_summary[['norm_popularity', 'norm_count']] = scaler.fit_transform(\n",
    "    genre_summary[['avg_popularity', 'total_count']]\n",
    ")\n",
    "\n",
    "# weight_slider = alt.param(\n",
    "#     name='pop_weight',\n",
    "#     bind=alt.binding_range(min=0, max=1, step=0.01, name='Popularity Weight:'),\n",
    "#     value=0.5\n",
    "# )\n",
    "#\n",
    "# scatter = alt.Chart(genre_summary).transform_calculate(\n",
    "#     score='datum.norm_popularity * pop_weight + datum.norm_count * (1 - pop_weight)'\n",
    "# ).encode(\n",
    "#     x=alt.X('norm_count:Q', title='Quantity (Song Count)'),\n",
    "#     y=alt.Y('norm_popularity:Q', title='Quality (Popularity)'),\n",
    "#     size=alt.Size('score:Q', title='Weighted Score', scale=alt.Scale(range=[20, 1000]), legend=None),\n",
    "#     color=alt.Color('track_genre:N', legend=None, scale=fixed_color_scale),\n",
    "#     tooltip=[\n",
    "#         alt.Tooltip('track_genre:N', title='Genre'),\n",
    "#         alt.Tooltip('total_count:Q', title='Total Songs'),\n",
    "#         alt.Tooltip('avg_popularity:Q', title='Average Popularity'),\n",
    "#         alt.Tooltip('score:Q', title='Score', format='.2f')\n",
    "#     ]\n",
    "# ).add_params(\n",
    "#     weight_slider\n",
    "# ).mark_circle().properties(\n",
    "#     title=alt.TitleParams(\n",
    "#         text=['Genre Score Based on Popularity and Song Count'],\n",
    "#         subtitle=['Drag the slider to adjust the weight of popularity vs song count']\n",
    "#     ),\n",
    "#     width=600,\n",
    "#     height=400\n",
    "# )\n",
    "#\n",
    "# # Shared score calculation\n",
    "# score_calc = 'datum.norm_popularity * pop_weight + datum.norm_count * (1 - pop_weight)'\n",
    "#\n",
    "# # Score + rank\n",
    "# ranked = alt.Chart(genre_summary).transform_calculate(\n",
    "#     score=score_calc\n",
    "# ).transform_window(\n",
    "#     rank='rank(score)',\n",
    "#     sort=[alt.SortField('score', order='descending')]\n",
    "# ).transform_filter(\n",
    "#     'datum.rank <= 10'\n",
    "# )\n",
    "#\n",
    "# # Right-side ranked genre list (as text)\n",
    "# top_genres = ranked.mark_text(align='left', dx=-50).encode(\n",
    "#     y=alt.Y('rank:O', sort='ascending', title=None, axis=None),\n",
    "#     text=alt.Text('track_genre:N'),\n",
    "#     tooltip=[\n",
    "#         alt.Tooltip('track_genre:N', title='Genre'),\n",
    "#         alt.Tooltip('score:Q', title='Score', format='.2f')\n",
    "#     ]\n",
    "# ).properties(\n",
    "#     width=120,\n",
    "#     height=400,\n",
    "#     title='Top 10 Genres'\n",
    "# )\n",
    "\n",
    "# genre_list = top_genres\n",
    "# final_chart = scatter | genre_list\n",
    "# final_chart.add_params(weight_slider).interactive().save(\"../../public/charts/whos_winning.json\")"
   ],
   "outputs": [],
   "execution_count": 23
  },
  {
   "cell_type": "code",
   "metadata": {
    "ExecuteTime": {
     "end_time": "2025-04-26T06:20:52.226735Z",
     "start_time": "2025-04-26T06:20:52.209577Z"
    }
   },
   "source": [
    "# facet chart\n",
    "genres_of_interest = ['chill', 'sad', 'k-pop', 'pop-film']\n",
    "filtered_data = data[data['track_genre'].isin(genres_of_interest)].copy()\n",
    "\n",
    "filtered_data['release_year'] = pd.to_datetime(filtered_data['release_date'], errors='coerce').dt.year\n",
    "\n",
    "summary = filtered_data.groupby(['release_year', 'track_genre']).agg(\n",
    "    total_songs=('track_id', 'count'),\n",
    "    avg_popularity=('popularity', 'mean')\n",
    ").reset_index()\n",
    "\n",
    "melted = summary.melt(id_vars=['release_year', 'track_genre'], \n",
    "                      value_vars=['total_songs', 'avg_popularity'], \n",
    "                      var_name='metric', value_name='value')\n",
    "\n",
    "# line chart\n",
    "chart = alt.Chart(melted).mark_line(point=True).encode(\n",
    "    x=alt.X('release_year:O', title='Year', axis=alt.Axis(values=list(range(1985, 2022, 5)))),\n",
    "    y=alt.Y('value:Q', title='Value'),\n",
    "    color=alt.Color('metric:N', title='Metric', scale=alt.Scale(domain=['total_songs', 'avg_popularity'], range=['#1f77b4', '#ff7f0e'])\n",
    "),\n",
    "    # tooltip=['release_year', 'track_genre', 'metric', 'value']\n",
    "    tooltip=[\n",
    "        alt.Tooltip('release_year:O', title='Year'),\n",
    "        alt.Tooltip('track_genre:N', title='Genre'),\n",
    "        alt.Tooltip('metric:N', title='Metric'),\n",
    "        alt.Tooltip('value:Q', title='Value')\n",
    "    ]\n",
    ").properties(\n",
    "    title='Trends of Total Songs and Popularity Over Time',\n",
    "    width=340,\n",
    "    height=180\n",
    ").facet(\n",
    "    alt.Facet(\n",
    "        'track_genre:N', title=None\n",
    "    ), columns=2, title = 'Trends of Total Songs and Popularity Over Time'\n",
    ")\n",
    "chart.save(\"../../public/charts/rise_moods.json\")"
   ],
   "outputs": [],
   "execution_count": 24
  },
  {
   "cell_type": "code",
   "metadata": {
    "ExecuteTime": {
     "end_time": "2025-04-26T06:20:52.260095Z",
     "start_time": "2025-04-26T06:20:52.242643Z"
    }
   },
   "source": [
    "# bubble chart\n",
    "genres_of_interest = ['chill', 'sad', 'k-pop', 'pop-film']\n",
    "features = ['danceability', 'energy', 'valence', 'acousticness', 'instrumentalness', 'liveness', 'speechiness']\n",
    "\n",
    "feature_profile_df = data[data['track_genre'].isin(genres_of_interest)].groupby('track_genre')[features].mean().reset_index()\n",
    "melted_features = feature_profile_df.melt(id_vars='track_genre', var_name='feature', value_name='value')\n",
    "\n",
    "overall_means = data[features].mean().reset_index()\n",
    "overall_means.columns = ['feature', 'mean_value']\n",
    "overall_means['track_genre'] = 'Average'\n",
    "\n",
    "genre_bubbles = alt.Chart(melted_features).mark_circle().encode(\n",
    "    x=alt.X('feature:N', title=None, sort=features, axis=alt.Axis(labelAngle=30)),\n",
    "    y=alt.Y('track_genre:N', title=None, sort=genres_of_interest),\n",
    "    size=alt.Size('value:Q', scale=alt.Scale(range=[0, 1000]), legend=alt.Legend(title='Feature Value')),\n",
    "    color=alt.Color('feature:N', legend=None),\n",
    "    tooltip=[alt.Tooltip('track_genre:N', title='Genre'),\n",
    "            alt.Tooltip('feature:N', title='Feature'),\n",
    "            alt.Tooltip('value:Q', title='Value', format='.2f')]\n",
    ")\n",
    "\n",
    "mean_bubbles = alt.Chart(overall_means).mark_circle(\n",
    "    color='gray',\n",
    "    fillOpacity=0.5,\n",
    ").encode(\n",
    "    x=alt.X('feature:N', sort=features),\n",
    "    y=alt.Y('track_genre:N', sort=genres_of_interest),\n",
    "    size=alt.Size('mean_value:Q', scale=alt.Scale(range=[0, 1000]), legend=None),\n",
    "    tooltip=[alt.Tooltip('mean_value:Q', title='Dataset Mean', format='.2f')]\n",
    ")\n",
    "\n",
    "# Combine the layers\n",
    "final_chart_top = (genre_bubbles + mean_bubbles).properties(\n",
    "    title='Musical Feature Profile - Most Popular Genres',\n",
    "    width=400,\n",
    "    height=150\n",
    ")\n",
    "\n",
    "final_chart_top"
   ],
   "outputs": [
    {
     "data": {
      "text/html": [
       "\n",
       "<style>\n",
       "  #altair-viz-a922a4cfb72c46ccbda0ef53f668aeca.vega-embed {\n",
       "    width: 100%;\n",
       "    display: flex;\n",
       "  }\n",
       "\n",
       "  #altair-viz-a922a4cfb72c46ccbda0ef53f668aeca.vega-embed details,\n",
       "  #altair-viz-a922a4cfb72c46ccbda0ef53f668aeca.vega-embed details summary {\n",
       "    position: relative;\n",
       "  }\n",
       "</style>\n",
       "<div id=\"altair-viz-a922a4cfb72c46ccbda0ef53f668aeca\"></div>\n",
       "<script type=\"text/javascript\">\n",
       "  var VEGA_DEBUG = (typeof VEGA_DEBUG == \"undefined\") ? {} : VEGA_DEBUG;\n",
       "  (function(spec, embedOpt){\n",
       "    let outputDiv = document.currentScript.previousElementSibling;\n",
       "    if (outputDiv.id !== \"altair-viz-a922a4cfb72c46ccbda0ef53f668aeca\") {\n",
       "      outputDiv = document.getElementById(\"altair-viz-a922a4cfb72c46ccbda0ef53f668aeca\");\n",
       "    }\n",
       "\n",
       "    const paths = {\n",
       "      \"vega\": \"https://cdn.jsdelivr.net/npm/vega@5?noext\",\n",
       "      \"vega-lib\": \"https://cdn.jsdelivr.net/npm/vega-lib?noext\",\n",
       "      \"vega-lite\": \"https://cdn.jsdelivr.net/npm/vega-lite@5.20.1?noext\",\n",
       "      \"vega-embed\": \"https://cdn.jsdelivr.net/npm/vega-embed@6?noext\",\n",
       "    };\n",
       "\n",
       "    function maybeLoadScript(lib, version) {\n",
       "      var key = `${lib.replace(\"-\", \"\")}_version`;\n",
       "      return (VEGA_DEBUG[key] == version) ?\n",
       "        Promise.resolve(paths[lib]) :\n",
       "        new Promise(function(resolve, reject) {\n",
       "          var s = document.createElement('script');\n",
       "          document.getElementsByTagName(\"head\")[0].appendChild(s);\n",
       "          s.async = true;\n",
       "          s.onload = () => {\n",
       "            VEGA_DEBUG[key] = version;\n",
       "            return resolve(paths[lib]);\n",
       "          };\n",
       "          s.onerror = () => reject(`Error loading script: ${paths[lib]}`);\n",
       "          s.src = paths[lib];\n",
       "        });\n",
       "    }\n",
       "\n",
       "    function showError(err) {\n",
       "      outputDiv.innerHTML = `<div class=\"error\" style=\"color:red;\">${err}</div>`;\n",
       "      throw err;\n",
       "    }\n",
       "\n",
       "    function displayChart(vegaEmbed) {\n",
       "      vegaEmbed(outputDiv, spec, embedOpt)\n",
       "        .catch(err => showError(`Javascript Error: ${err.message}<br>This usually means there's a typo in your chart specification. See the javascript console for the full traceback.`));\n",
       "    }\n",
       "\n",
       "    if(typeof define === \"function\" && define.amd) {\n",
       "      requirejs.config({paths});\n",
       "      let deps = [\"vega-embed\"];\n",
       "      require(deps, displayChart, err => showError(`Error loading script: ${err.message}`));\n",
       "    } else {\n",
       "      maybeLoadScript(\"vega\", \"5\")\n",
       "        .then(() => maybeLoadScript(\"vega-lite\", \"5.20.1\"))\n",
       "        .then(() => maybeLoadScript(\"vega-embed\", \"6\"))\n",
       "        .catch(showError)\n",
       "        .then(() => displayChart(vegaEmbed));\n",
       "    }\n",
       "  })({\"config\": {\"arc\": {\"fill\": \"#F63366\"}, \"area\": {\"fill\": \"#F63366\"}, \"circle\": {\"fill\": \"#F63366\", \"stroke\": \"#262730\", \"strokeWidth\": 0.5}, \"line\": {\"stroke\": \"#F63366\"}, \"path\": {\"stroke\": \"#F63366\"}, \"point\": {\"stroke\": \"#F63366\"}, \"rect\": {\"fill\": \"#F63366\"}, \"shape\": {\"stroke\": \"#F63366\"}, \"symbol\": {\"fill\": \"#F63366\"}, \"title\": {\"font\": \"IBM Plex Mono\", \"color\": \"#262730\", \"fontSize\": 17.6, \"anchor\": \"start\"}, \"subtitle\": {\"font\": \"IBM Plex Mono\", \"color\": \"#262730\", \"fontSize\": 18, \"anchor\": \"start\"}, \"axis\": {\"titleFont\": \"IBM Plex Mono\", \"titleColor\": \"#262730\", \"titleFontSize\": 12.8, \"labelFont\": \"IBM Plex Mono\", \"labelColor\": \"#262730\", \"labelFontSize\": 12.8, \"gridColor\": \"#f0f2f6\", \"domainColor\": \"#262730\", \"tickColor\": \"#fff\"}, \"header\": {\"labelFont\": \"IBM Plex Mono\", \"titleFont\": \"IBM Plex Mono\", \"labelFontSize\": 16, \"titleFontSize\": 16}, \"legend\": {\"titleFont\": \"IBM Plex Mono\", \"titleColor\": \"#262730\", \"titleFontSize\": 12.8, \"labelFont\": \"IBM Plex Mono\", \"labelColor\": \"#262730\", \"labelFontSize\": 12.8}, \"range\": {\"category\": [\"#fcca46\", \"#fe7f2d\", \"#233d4d\", \"#a1c181\", \"#717744\", \"#00798c\"], \"diverging\": [\"#850018\", \"#cd1549\", \"#f6618d\", \"#fbafc4\", \"#f5f5f5\", \"#93c5fe\", \"#5091e6\", \"#1d5ebd\", \"#002f84\"], \"heatmap\": [\"#ffb5d4\", \"#ff97b8\", \"#ff7499\", \"#fc4c78\", \"#ec245f\", \"#d2004b\", \"#b10034\", \"#91001f\", \"#720008\"], \"ramp\": [\"#ffb5d4\", \"#ff97b8\", \"#ff7499\", \"#fc4c78\", \"#ec245f\", \"#d2004b\", \"#b10034\", \"#91001f\", \"#720008\"], \"ordinal\": [\"#ffb5d4\", \"#ff97b8\", \"#ff7499\", \"#fc4c78\", \"#ec245f\", \"#d2004b\", \"#b10034\", \"#91001f\", \"#720008\"]}}, \"layer\": [{\"data\": {\"name\": \"data-f5371fcca5a84b5106228abc5afa647d\"}, \"mark\": {\"type\": \"circle\"}, \"encoding\": {\"color\": {\"field\": \"feature\", \"legend\": null, \"type\": \"nominal\"}, \"size\": {\"field\": \"value\", \"legend\": {\"title\": \"Feature Value\"}, \"scale\": {\"range\": [0, 1000]}, \"type\": \"quantitative\"}, \"tooltip\": [{\"field\": \"track_genre\", \"title\": \"Genre\", \"type\": \"nominal\"}, {\"field\": \"feature\", \"title\": \"Feature\", \"type\": \"nominal\"}, {\"field\": \"value\", \"format\": \".2f\", \"title\": \"Value\", \"type\": \"quantitative\"}], \"x\": {\"axis\": {\"labelAngle\": 30}, \"field\": \"feature\", \"sort\": [\"danceability\", \"energy\", \"valence\", \"acousticness\", \"instrumentalness\", \"liveness\", \"speechiness\"], \"title\": null, \"type\": \"nominal\"}, \"y\": {\"field\": \"track_genre\", \"sort\": [\"chill\", \"sad\", \"k-pop\", \"pop-film\"], \"title\": null, \"type\": \"nominal\"}}}, {\"data\": {\"name\": \"data-e3d30fd7344116baf3e6418e6958f83b\"}, \"mark\": {\"type\": \"circle\", \"color\": \"gray\", \"fillOpacity\": 0.5}, \"encoding\": {\"size\": {\"field\": \"mean_value\", \"legend\": null, \"scale\": {\"range\": [0, 1000]}, \"type\": \"quantitative\"}, \"tooltip\": [{\"field\": \"mean_value\", \"format\": \".2f\", \"title\": \"Dataset Mean\", \"type\": \"quantitative\"}], \"x\": {\"field\": \"feature\", \"sort\": [\"danceability\", \"energy\", \"valence\", \"acousticness\", \"instrumentalness\", \"liveness\", \"speechiness\"], \"type\": \"nominal\"}, \"y\": {\"field\": \"track_genre\", \"sort\": [\"chill\", \"sad\", \"k-pop\", \"pop-film\"], \"type\": \"nominal\"}}}], \"height\": 150, \"title\": \"Musical Feature Profile - Most Popular Genres\", \"width\": 400, \"$schema\": \"https://vega.github.io/schema/vega-lite/v5.20.1.json\", \"datasets\": {\"data-f5371fcca5a84b5106228abc5afa647d\": [{\"track_genre\": \"chill\", \"feature\": \"danceability\", \"value\": 0.6644864593781344}, {\"track_genre\": \"k-pop\", \"feature\": \"danceability\", \"value\": 0.6462198275862069}, {\"track_genre\": \"pop-film\", \"feature\": \"danceability\", \"value\": 0.600589485458613}, {\"track_genre\": \"sad\", \"feature\": \"danceability\", \"value\": 0.6922512512512512}, {\"track_genre\": \"chill\", \"feature\": \"energy\", \"value\": 0.42613029087261783}, {\"track_genre\": \"k-pop\", \"feature\": \"energy\", \"value\": 0.6842704741379311}, {\"track_genre\": \"pop-film\", \"feature\": \"energy\", \"value\": 0.6115658836689039}, {\"track_genre\": \"sad\", \"feature\": \"energy\", \"value\": 0.46258268268268266}, {\"track_genre\": \"chill\", \"feature\": \"valence\", \"value\": 0.40387211634904713}, {\"track_genre\": \"k-pop\", \"feature\": \"valence\", \"value\": 0.555973275862069}, {\"track_genre\": \"pop-film\", \"feature\": \"valence\", \"value\": 0.5306043624161074}, {\"track_genre\": \"sad\", \"feature\": \"valence\", \"value\": 0.4223538538538539}, {\"track_genre\": \"chill\", \"feature\": \"acousticness\", \"value\": 0.5349575273821464}, {\"track_genre\": \"k-pop\", \"feature\": \"acousticness\", \"value\": 0.27916195474137934}, {\"track_genre\": \"pop-film\", \"feature\": \"acousticness\", \"value\": 0.428340129753915}, {\"track_genre\": \"sad\", \"feature\": \"acousticness\", \"value\": 0.47412575175175176}, {\"track_genre\": \"chill\", \"feature\": \"instrumentalness\", \"value\": 0.1785550584353059}, {\"track_genre\": \"k-pop\", \"feature\": \"instrumentalness\", \"value\": 0.00919560202586207}, {\"track_genre\": \"pop-film\", \"feature\": \"instrumentalness\", \"value\": 0.00690240644295302}, {\"track_genre\": \"sad\", \"feature\": \"instrumentalness\", \"value\": 0.10560268245245245}, {\"track_genre\": \"chill\", \"feature\": \"liveness\", \"value\": 0.16843029087261788}, {\"track_genre\": \"k-pop\", \"feature\": \"liveness\", \"value\": 0.177575}, {\"track_genre\": \"pop-film\", \"feature\": \"liveness\", \"value\": 0.16309787472035792}, {\"track_genre\": \"sad\", \"feature\": \"liveness\", \"value\": 0.17167327327327328}, {\"track_genre\": \"chill\", \"feature\": \"speechiness\", \"value\": 0.1023506519558676}, {\"track_genre\": \"k-pop\", \"feature\": \"speechiness\", \"value\": 0.08993448275862069}, {\"track_genre\": \"pop-film\", \"feature\": \"speechiness\", \"value\": 0.06545816554809843}, {\"track_genre\": \"sad\", \"feature\": \"speechiness\", \"value\": 0.1304995995995996}], \"data-e3d30fd7344116baf3e6418e6958f83b\": [{\"feature\": \"danceability\", \"mean_value\": 0.5692131961131589, \"track_genre\": \"Average\"}, {\"feature\": \"energy\", \"mean_value\": 0.6438869236120819, \"track_genre\": \"Average\"}, {\"feature\": \"valence\", \"mean_value\": 0.46791649448087685, \"track_genre\": \"Average\"}, {\"feature\": \"acousticness\", \"mean_value\": 0.31120600202862475, \"track_genre\": \"Average\"}, {\"feature\": \"instrumentalness\", \"mean_value\": 0.15942083921028194, \"track_genre\": \"Average\"}, {\"feature\": \"liveness\", \"mean_value\": 0.21369224843233925, \"track_genre\": \"Average\"}, {\"feature\": \"speechiness\", \"mean_value\": 0.08602734383227227, \"track_genre\": \"Average\"}]}}, {\"mode\": \"vega-lite\"});\n",
       "</script>"
      ],
      "text/plain": [
       "alt.LayerChart(...)"
      ]
     },
     "execution_count": 25,
     "metadata": {},
     "output_type": "execute_result"
    }
   ],
   "execution_count": 25
  },
  {
   "cell_type": "code",
   "metadata": {
    "ExecuteTime": {
     "end_time": "2025-04-26T06:20:52.298Z",
     "start_time": "2025-04-26T06:20:52.280901Z"
    }
   },
   "source": [
    "# bubble chart for least popular genres\n",
    "genres_of_interest = ['latin', 'romance', 'iranian', 'jazz']\n",
    "features = ['danceability', 'energy', 'valence', 'acousticness', 'instrumentalness', 'liveness', 'speechiness']\n",
    "\n",
    "feature_profile_df = data[data['track_genre'].isin(genres_of_interest)].groupby('track_genre')[features].mean().reset_index()\n",
    "melted_features = feature_profile_df.melt(id_vars='track_genre', var_name='feature', value_name='value')\n",
    "\n",
    "overall_means = data[features].mean().reset_index()\n",
    "overall_means.columns = ['feature', 'mean_value']\n",
    "overall_means['track_genre'] = 'Average'\n",
    "\n",
    "genre_bubbles = alt.Chart(melted_features).mark_circle().encode(\n",
    "    x=alt.X('feature:N', title=None, sort=features, axis=alt.Axis(labelAngle=30)),\n",
    "    y=alt.Y('track_genre:N', title=None, sort=genres_of_interest),\n",
    "    size=alt.Size('value:Q', scale=alt.Scale(range=[0, 1000]), legend=alt.Legend(title='Feature Value')),\n",
    "    color=alt.Color('feature:N', legend=None),\n",
    "    tooltip=[alt.Tooltip('track_genre:N', title='Genre'),\n",
    "            alt.Tooltip('feature:N', title='Feature'),\n",
    "            alt.Tooltip('value:Q', title='Value', format='.2f')]\n",
    ")\n",
    "\n",
    "mean_bubbles = alt.Chart(overall_means).mark_circle(\n",
    "    color='gray',\n",
    "    fillOpacity=0.5,\n",
    ").encode(\n",
    "    x=alt.X('feature:N', sort=features),\n",
    "    y=alt.Y('track_genre:N', sort=genres_of_interest),\n",
    "    size=alt.Size('mean_value:Q', scale=alt.Scale(range=[0, 1000]), legend=None),\n",
    "    tooltip=[alt.Tooltip('mean_value:Q', title='Dataset Mean', format='.2f')]\n",
    ")\n",
    "\n",
    "# Combine the layers\n",
    "final_chart_least = (genre_bubbles + mean_bubbles).properties(\n",
    "    title='Musical Feature Profile - Least Popular Genres',\n",
    "    width=400,\n",
    "    height=150\n",
    ")\n",
    "\n",
    "final_chart_least"
   ],
   "outputs": [
    {
     "data": {
      "text/html": [
       "\n",
       "<style>\n",
       "  #altair-viz-0f97d82006d746c5a5e9a248a6562677.vega-embed {\n",
       "    width: 100%;\n",
       "    display: flex;\n",
       "  }\n",
       "\n",
       "  #altair-viz-0f97d82006d746c5a5e9a248a6562677.vega-embed details,\n",
       "  #altair-viz-0f97d82006d746c5a5e9a248a6562677.vega-embed details summary {\n",
       "    position: relative;\n",
       "  }\n",
       "</style>\n",
       "<div id=\"altair-viz-0f97d82006d746c5a5e9a248a6562677\"></div>\n",
       "<script type=\"text/javascript\">\n",
       "  var VEGA_DEBUG = (typeof VEGA_DEBUG == \"undefined\") ? {} : VEGA_DEBUG;\n",
       "  (function(spec, embedOpt){\n",
       "    let outputDiv = document.currentScript.previousElementSibling;\n",
       "    if (outputDiv.id !== \"altair-viz-0f97d82006d746c5a5e9a248a6562677\") {\n",
       "      outputDiv = document.getElementById(\"altair-viz-0f97d82006d746c5a5e9a248a6562677\");\n",
       "    }\n",
       "\n",
       "    const paths = {\n",
       "      \"vega\": \"https://cdn.jsdelivr.net/npm/vega@5?noext\",\n",
       "      \"vega-lib\": \"https://cdn.jsdelivr.net/npm/vega-lib?noext\",\n",
       "      \"vega-lite\": \"https://cdn.jsdelivr.net/npm/vega-lite@5.20.1?noext\",\n",
       "      \"vega-embed\": \"https://cdn.jsdelivr.net/npm/vega-embed@6?noext\",\n",
       "    };\n",
       "\n",
       "    function maybeLoadScript(lib, version) {\n",
       "      var key = `${lib.replace(\"-\", \"\")}_version`;\n",
       "      return (VEGA_DEBUG[key] == version) ?\n",
       "        Promise.resolve(paths[lib]) :\n",
       "        new Promise(function(resolve, reject) {\n",
       "          var s = document.createElement('script');\n",
       "          document.getElementsByTagName(\"head\")[0].appendChild(s);\n",
       "          s.async = true;\n",
       "          s.onload = () => {\n",
       "            VEGA_DEBUG[key] = version;\n",
       "            return resolve(paths[lib]);\n",
       "          };\n",
       "          s.onerror = () => reject(`Error loading script: ${paths[lib]}`);\n",
       "          s.src = paths[lib];\n",
       "        });\n",
       "    }\n",
       "\n",
       "    function showError(err) {\n",
       "      outputDiv.innerHTML = `<div class=\"error\" style=\"color:red;\">${err}</div>`;\n",
       "      throw err;\n",
       "    }\n",
       "\n",
       "    function displayChart(vegaEmbed) {\n",
       "      vegaEmbed(outputDiv, spec, embedOpt)\n",
       "        .catch(err => showError(`Javascript Error: ${err.message}<br>This usually means there's a typo in your chart specification. See the javascript console for the full traceback.`));\n",
       "    }\n",
       "\n",
       "    if(typeof define === \"function\" && define.amd) {\n",
       "      requirejs.config({paths});\n",
       "      let deps = [\"vega-embed\"];\n",
       "      require(deps, displayChart, err => showError(`Error loading script: ${err.message}`));\n",
       "    } else {\n",
       "      maybeLoadScript(\"vega\", \"5\")\n",
       "        .then(() => maybeLoadScript(\"vega-lite\", \"5.20.1\"))\n",
       "        .then(() => maybeLoadScript(\"vega-embed\", \"6\"))\n",
       "        .catch(showError)\n",
       "        .then(() => displayChart(vegaEmbed));\n",
       "    }\n",
       "  })({\"config\": {\"arc\": {\"fill\": \"#F63366\"}, \"area\": {\"fill\": \"#F63366\"}, \"circle\": {\"fill\": \"#F63366\", \"stroke\": \"#262730\", \"strokeWidth\": 0.5}, \"line\": {\"stroke\": \"#F63366\"}, \"path\": {\"stroke\": \"#F63366\"}, \"point\": {\"stroke\": \"#F63366\"}, \"rect\": {\"fill\": \"#F63366\"}, \"shape\": {\"stroke\": \"#F63366\"}, \"symbol\": {\"fill\": \"#F63366\"}, \"title\": {\"font\": \"IBM Plex Mono\", \"color\": \"#262730\", \"fontSize\": 17.6, \"anchor\": \"start\"}, \"subtitle\": {\"font\": \"IBM Plex Mono\", \"color\": \"#262730\", \"fontSize\": 18, \"anchor\": \"start\"}, \"axis\": {\"titleFont\": \"IBM Plex Mono\", \"titleColor\": \"#262730\", \"titleFontSize\": 12.8, \"labelFont\": \"IBM Plex Mono\", \"labelColor\": \"#262730\", \"labelFontSize\": 12.8, \"gridColor\": \"#f0f2f6\", \"domainColor\": \"#262730\", \"tickColor\": \"#fff\"}, \"header\": {\"labelFont\": \"IBM Plex Mono\", \"titleFont\": \"IBM Plex Mono\", \"labelFontSize\": 16, \"titleFontSize\": 16}, \"legend\": {\"titleFont\": \"IBM Plex Mono\", \"titleColor\": \"#262730\", \"titleFontSize\": 12.8, \"labelFont\": \"IBM Plex Mono\", \"labelColor\": \"#262730\", \"labelFontSize\": 12.8}, \"range\": {\"category\": [\"#fcca46\", \"#fe7f2d\", \"#233d4d\", \"#a1c181\", \"#717744\", \"#00798c\"], \"diverging\": [\"#850018\", \"#cd1549\", \"#f6618d\", \"#fbafc4\", \"#f5f5f5\", \"#93c5fe\", \"#5091e6\", \"#1d5ebd\", \"#002f84\"], \"heatmap\": [\"#ffb5d4\", \"#ff97b8\", \"#ff7499\", \"#fc4c78\", \"#ec245f\", \"#d2004b\", \"#b10034\", \"#91001f\", \"#720008\"], \"ramp\": [\"#ffb5d4\", \"#ff97b8\", \"#ff7499\", \"#fc4c78\", \"#ec245f\", \"#d2004b\", \"#b10034\", \"#91001f\", \"#720008\"], \"ordinal\": [\"#ffb5d4\", \"#ff97b8\", \"#ff7499\", \"#fc4c78\", \"#ec245f\", \"#d2004b\", \"#b10034\", \"#91001f\", \"#720008\"]}}, \"layer\": [{\"data\": {\"name\": \"data-ac0a75e147047989746601761bc13e8a\"}, \"mark\": {\"type\": \"circle\"}, \"encoding\": {\"color\": {\"field\": \"feature\", \"legend\": null, \"type\": \"nominal\"}, \"size\": {\"field\": \"value\", \"legend\": {\"title\": \"Feature Value\"}, \"scale\": {\"range\": [0, 1000]}, \"type\": \"quantitative\"}, \"tooltip\": [{\"field\": \"track_genre\", \"title\": \"Genre\", \"type\": \"nominal\"}, {\"field\": \"feature\", \"title\": \"Feature\", \"type\": \"nominal\"}, {\"field\": \"value\", \"format\": \".2f\", \"title\": \"Value\", \"type\": \"quantitative\"}], \"x\": {\"axis\": {\"labelAngle\": 30}, \"field\": \"feature\", \"sort\": [\"danceability\", \"energy\", \"valence\", \"acousticness\", \"instrumentalness\", \"liveness\", \"speechiness\"], \"title\": null, \"type\": \"nominal\"}, \"y\": {\"field\": \"track_genre\", \"sort\": [\"latin\", \"romance\", \"iranian\", \"jazz\"], \"title\": null, \"type\": \"nominal\"}}}, {\"data\": {\"name\": \"data-e3d30fd7344116baf3e6418e6958f83b\"}, \"mark\": {\"type\": \"circle\", \"color\": \"gray\", \"fillOpacity\": 0.5}, \"encoding\": {\"size\": {\"field\": \"mean_value\", \"legend\": null, \"scale\": {\"range\": [0, 1000]}, \"type\": \"quantitative\"}, \"tooltip\": [{\"field\": \"mean_value\", \"format\": \".2f\", \"title\": \"Dataset Mean\", \"type\": \"quantitative\"}], \"x\": {\"field\": \"feature\", \"sort\": [\"danceability\", \"energy\", \"valence\", \"acousticness\", \"instrumentalness\", \"liveness\", \"speechiness\"], \"type\": \"nominal\"}, \"y\": {\"field\": \"track_genre\", \"sort\": [\"latin\", \"romance\", \"iranian\", \"jazz\"], \"type\": \"nominal\"}}}], \"height\": 150, \"title\": \"Musical Feature Profile - Least Popular Genres\", \"width\": 400, \"$schema\": \"https://vega.github.io/schema/vega-lite/v5.20.1.json\", \"datasets\": {\"data-ac0a75e147047989746601761bc13e8a\": [{\"track_genre\": \"iranian\", \"feature\": \"danceability\", \"value\": 0.29866632337796084}, {\"track_genre\": \"jazz\", \"feature\": \"danceability\", \"value\": 0.5109423076923078}, {\"track_genre\": \"latin\", \"feature\": \"danceability\", \"value\": 0.7232469387755103}, {\"track_genre\": \"romance\", \"feature\": \"danceability\", \"value\": 0.431414499424626}, {\"track_genre\": \"iranian\", \"feature\": \"energy\", \"value\": 0.5501648533470649}, {\"track_genre\": \"jazz\", \"feature\": \"energy\", \"value\": 0.3529281730769231}, {\"track_genre\": \"latin\", \"feature\": \"energy\", \"value\": 0.7254673469387755}, {\"track_genre\": \"romance\", \"feature\": \"energy\", \"value\": 0.3001147295742232}, {\"track_genre\": \"iranian\", \"feature\": \"valence\", \"value\": 0.15433429454170958}, {\"track_genre\": \"jazz\", \"feature\": \"valence\", \"value\": 0.4922884615384615}, {\"track_genre\": \"latin\", \"feature\": \"valence\", \"value\": 0.6318520408163265}, {\"track_genre\": \"romance\", \"feature\": \"valence\", \"value\": 0.39209182968929807}, {\"track_genre\": \"iranian\", \"feature\": \"acousticness\", \"value\": 0.40575551457260556}, {\"track_genre\": \"jazz\", \"feature\": \"acousticness\", \"value\": 0.7172826356837606}, {\"track_genre\": \"latin\", \"feature\": \"acousticness\", \"value\": 0.18490991326530612}, {\"track_genre\": \"romance\", \"feature\": \"acousticness\", \"value\": 0.8632486766398159}, {\"track_genre\": \"iranian\", \"feature\": \"instrumentalness\", \"value\": 0.5892304576004119}, {\"track_genre\": \"jazz\", \"feature\": \"instrumentalness\", \"value\": 0.08199479012820514}, {\"track_genre\": \"latin\", \"feature\": \"instrumentalness\", \"value\": 0.009364278724489795}, {\"track_genre\": \"romance\", \"feature\": \"instrumentalness\", \"value\": 0.05061715452243958}, {\"track_genre\": \"iranian\", \"feature\": \"liveness\", \"value\": 0.19059711637487126}, {\"track_genre\": \"jazz\", \"feature\": \"liveness\", \"value\": 0.1686667735042735}, {\"track_genre\": \"latin\", \"feature\": \"liveness\", \"value\": 0.17557346938775512}, {\"track_genre\": \"romance\", \"feature\": \"liveness\", \"value\": 0.21421772151898735}, {\"track_genre\": \"iranian\", \"feature\": \"speechiness\", \"value\": 0.09069804325437694}, {\"track_genre\": \"jazz\", \"feature\": \"speechiness\", \"value\": 0.05556655982905983}, {\"track_genre\": \"latin\", \"feature\": \"speechiness\", \"value\": 0.09356581632653062}, {\"track_genre\": \"romance\", \"feature\": \"speechiness\", \"value\": 0.06401426927502876}], \"data-e3d30fd7344116baf3e6418e6958f83b\": [{\"feature\": \"danceability\", \"mean_value\": 0.5692131961131589, \"track_genre\": \"Average\"}, {\"feature\": \"energy\", \"mean_value\": 0.6438869236120819, \"track_genre\": \"Average\"}, {\"feature\": \"valence\", \"mean_value\": 0.46791649448087685, \"track_genre\": \"Average\"}, {\"feature\": \"acousticness\", \"mean_value\": 0.31120600202862475, \"track_genre\": \"Average\"}, {\"feature\": \"instrumentalness\", \"mean_value\": 0.15942083921028194, \"track_genre\": \"Average\"}, {\"feature\": \"liveness\", \"mean_value\": 0.21369224843233925, \"track_genre\": \"Average\"}, {\"feature\": \"speechiness\", \"mean_value\": 0.08602734383227227, \"track_genre\": \"Average\"}]}}, {\"mode\": \"vega-lite\"});\n",
       "</script>"
      ],
      "text/plain": [
       "alt.LayerChart(...)"
      ]
     },
     "execution_count": 26,
     "metadata": {},
     "output_type": "execute_result"
    }
   ],
   "execution_count": 26
  },
  {
   "cell_type": "code",
   "metadata": {
    "ExecuteTime": {
     "end_time": "2025-04-26T06:20:52.348407Z",
     "start_time": "2025-04-26T06:20:52.330218Z"
    }
   },
   "source": "(final_chart_top & final_chart_least).save(\"../../public/charts/features.json\")",
   "outputs": [],
   "execution_count": 27
  }
 ],
 "metadata": {
  "kernelspec": {
   "display_name": "venv",
   "language": "python",
   "name": "python3"
  },
  "language_info": {
   "codemirror_mode": {
    "name": "ipython",
    "version": 3
   },
   "file_extension": ".py",
   "mimetype": "text/x-python",
   "name": "python",
   "nbconvert_exporter": "python",
   "pygments_lexer": "ipython3",
   "version": "3.12.3"
  }
 },
 "nbformat": 4,
 "nbformat_minor": 2
}
